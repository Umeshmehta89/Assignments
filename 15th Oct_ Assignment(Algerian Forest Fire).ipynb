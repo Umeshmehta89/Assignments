{
 "cells": [
  {
   "cell_type": "markdown",
   "id": "4e84ab6d",
   "metadata": {},
   "source": [
    "## 15th Oct Assignment"
   ]
  },
  {
   "cell_type": "markdown",
   "id": "cd762689",
   "metadata": {},
   "source": [
    "#Problem statement: Considering Temperature as target(or label), predict Temperature using other features in the Algerian Dataset. "
   ]
  },
  {
   "cell_type": "code",
   "execution_count": 1,
   "id": "38ed96d3",
   "metadata": {},
   "outputs": [],
   "source": [
    "# Importing important libraries to be used\n",
    "\n",
    "import pandas as pd\n",
    "import numpy as np\n",
    "import matplotlib.pyplot as plt\n",
    "import seaborn as sns"
   ]
  },
  {
   "cell_type": "code",
   "execution_count": 2,
   "id": "20c8bbd2",
   "metadata": {},
   "outputs": [],
   "source": [
    "# Loading Algerian Forest Fire Dataset\n",
    "df = pd.read_csv(r\"D:\\ineuron\\Assignments\\15th Oct_Algerian Forest Fire (for temp)\\Algerian_forest_fires_dataset_UPDATE.csv\")"
   ]
  },
  {
   "cell_type": "code",
   "execution_count": 3,
   "id": "8719d4a7",
   "metadata": {},
   "outputs": [
    {
     "data": {
      "text/html": [
       "<div>\n",
       "<style scoped>\n",
       "    .dataframe tbody tr th:only-of-type {\n",
       "        vertical-align: middle;\n",
       "    }\n",
       "\n",
       "    .dataframe tbody tr th {\n",
       "        vertical-align: top;\n",
       "    }\n",
       "\n",
       "    .dataframe thead th {\n",
       "        text-align: right;\n",
       "    }\n",
       "</style>\n",
       "<table border=\"1\" class=\"dataframe\">\n",
       "  <thead>\n",
       "    <tr style=\"text-align: right;\">\n",
       "      <th></th>\n",
       "      <th>day</th>\n",
       "      <th>month</th>\n",
       "      <th>year</th>\n",
       "      <th>Temperature</th>\n",
       "      <th>RH</th>\n",
       "      <th>Ws</th>\n",
       "      <th>Rain</th>\n",
       "      <th>FFMC</th>\n",
       "      <th>DMC</th>\n",
       "      <th>DC</th>\n",
       "      <th>ISI</th>\n",
       "      <th>BUI</th>\n",
       "      <th>FWI</th>\n",
       "      <th>Classes</th>\n",
       "    </tr>\n",
       "  </thead>\n",
       "  <tbody>\n",
       "    <tr>\n",
       "      <th>0</th>\n",
       "      <td>1</td>\n",
       "      <td>6</td>\n",
       "      <td>2012</td>\n",
       "      <td>29</td>\n",
       "      <td>57</td>\n",
       "      <td>18</td>\n",
       "      <td>0.0</td>\n",
       "      <td>65.7</td>\n",
       "      <td>3.4</td>\n",
       "      <td>7.6</td>\n",
       "      <td>1.3</td>\n",
       "      <td>3.4</td>\n",
       "      <td>0.5</td>\n",
       "      <td>not fire</td>\n",
       "    </tr>\n",
       "    <tr>\n",
       "      <th>1</th>\n",
       "      <td>2</td>\n",
       "      <td>6</td>\n",
       "      <td>2012</td>\n",
       "      <td>29</td>\n",
       "      <td>61</td>\n",
       "      <td>13</td>\n",
       "      <td>1.3</td>\n",
       "      <td>64.4</td>\n",
       "      <td>4.1</td>\n",
       "      <td>7.6</td>\n",
       "      <td>1.0</td>\n",
       "      <td>3.9</td>\n",
       "      <td>0.4</td>\n",
       "      <td>not fire</td>\n",
       "    </tr>\n",
       "    <tr>\n",
       "      <th>2</th>\n",
       "      <td>3</td>\n",
       "      <td>6</td>\n",
       "      <td>2012</td>\n",
       "      <td>26</td>\n",
       "      <td>82</td>\n",
       "      <td>22</td>\n",
       "      <td>13.1</td>\n",
       "      <td>47.1</td>\n",
       "      <td>2.5</td>\n",
       "      <td>7.1</td>\n",
       "      <td>0.3</td>\n",
       "      <td>2.7</td>\n",
       "      <td>0.1</td>\n",
       "      <td>not fire</td>\n",
       "    </tr>\n",
       "    <tr>\n",
       "      <th>3</th>\n",
       "      <td>4</td>\n",
       "      <td>6</td>\n",
       "      <td>2012</td>\n",
       "      <td>25</td>\n",
       "      <td>89</td>\n",
       "      <td>13</td>\n",
       "      <td>2.5</td>\n",
       "      <td>28.6</td>\n",
       "      <td>1.3</td>\n",
       "      <td>6.9</td>\n",
       "      <td>0.0</td>\n",
       "      <td>1.7</td>\n",
       "      <td>0</td>\n",
       "      <td>not fire</td>\n",
       "    </tr>\n",
       "    <tr>\n",
       "      <th>4</th>\n",
       "      <td>5</td>\n",
       "      <td>6</td>\n",
       "      <td>2012</td>\n",
       "      <td>27</td>\n",
       "      <td>77</td>\n",
       "      <td>16</td>\n",
       "      <td>0.0</td>\n",
       "      <td>64.8</td>\n",
       "      <td>3.0</td>\n",
       "      <td>14.2</td>\n",
       "      <td>1.2</td>\n",
       "      <td>3.9</td>\n",
       "      <td>0.5</td>\n",
       "      <td>not fire</td>\n",
       "    </tr>\n",
       "  </tbody>\n",
       "</table>\n",
       "</div>"
      ],
      "text/plain": [
       "   day  month  year  Temperature   RH   Ws  Rain   FFMC  DMC    DC  ISI  BUI  \\\n",
       "0    1      6  2012           29   57   18    0.0  65.7  3.4   7.6  1.3  3.4   \n",
       "1    2      6  2012           29   61   13    1.3  64.4  4.1   7.6  1.0  3.9   \n",
       "2    3      6  2012           26   82   22   13.1  47.1  2.5   7.1  0.3  2.7   \n",
       "3    4      6  2012           25   89   13    2.5  28.6  1.3   6.9  0.0  1.7   \n",
       "4    5      6  2012           27   77   16    0.0  64.8  3.0  14.2  1.2  3.9   \n",
       "\n",
       "   FWI    Classes    \n",
       "0  0.5  not fire     \n",
       "1  0.4  not fire     \n",
       "2  0.1  not fire     \n",
       "3    0  not fire     \n",
       "4  0.5  not fire     "
      ]
     },
     "execution_count": 3,
     "metadata": {},
     "output_type": "execute_result"
    }
   ],
   "source": [
    "df.head()"
   ]
  },
  {
   "cell_type": "code",
   "execution_count": 4,
   "id": "06202d8c",
   "metadata": {},
   "outputs": [
    {
     "name": "stdout",
     "output_type": "stream",
     "text": [
      "<class 'pandas.core.frame.DataFrame'>\n",
      "RangeIndex: 244 entries, 0 to 243\n",
      "Data columns (total 14 columns):\n",
      " #   Column       Non-Null Count  Dtype  \n",
      "---  ------       --------------  -----  \n",
      " 0   day          244 non-null    int64  \n",
      " 1   month        244 non-null    int64  \n",
      " 2   year         244 non-null    int64  \n",
      " 3   Temperature  244 non-null    int64  \n",
      " 4    RH          244 non-null    int64  \n",
      " 5    Ws          244 non-null    int64  \n",
      " 6   Rain         244 non-null    float64\n",
      " 7   FFMC         244 non-null    float64\n",
      " 8   DMC          244 non-null    float64\n",
      " 9   DC           244 non-null    object \n",
      " 10  ISI          244 non-null    float64\n",
      " 11  BUI          244 non-null    float64\n",
      " 12  FWI          244 non-null    object \n",
      " 13  Classes      243 non-null    object \n",
      "dtypes: float64(5), int64(6), object(3)\n",
      "memory usage: 26.8+ KB\n"
     ]
    }
   ],
   "source": [
    "df.info() "
   ]
  },
  {
   "cell_type": "markdown",
   "id": "d5192749",
   "metadata": {},
   "source": [
    "#we will have to convert \"DC\", \"FWI\" to float but before we did that we will have to correct data at index 165\n",
    "\n",
    "#df['DC'] = pd.to_numeric(df['DC'], downcast = 'float') ## it is not working as data at index 165 is not inproper format. we will have to correct data at index 165"
   ]
  },
  {
   "cell_type": "code",
   "execution_count": 5,
   "id": "a8ae8be1",
   "metadata": {},
   "outputs": [
    {
     "data": {
      "text/plain": [
       "day                 14\n",
       "month                7\n",
       "year              2012\n",
       "Temperature         37\n",
       " RH                 37\n",
       " Ws                 18\n",
       "Rain               0.2\n",
       "FFMC              88.9\n",
       "DMC               12.9\n",
       "DC              14.6 9\n",
       "ISI               12.5\n",
       "BUI               10.4\n",
       "FWI            fire   \n",
       "Classes            NaN\n",
       "Name: 165, dtype: object"
      ]
     },
     "execution_count": 5,
     "metadata": {},
     "output_type": "execute_result"
    }
   ],
   "source": [
    "df.iloc[165]"
   ]
  },
  {
   "cell_type": "markdown",
   "id": "13754f1c",
   "metadata": {},
   "source": [
    "## Let's analyse what can we enter for \"FWI\" at index 165"
   ]
  },
  {
   "cell_type": "code",
   "execution_count": 6,
   "id": "1e41bc43",
   "metadata": {},
   "outputs": [
    {
     "name": "stderr",
     "output_type": "stream",
     "text": [
      "C:\\Users\\ukrum\\AppData\\Local\\Temp\\ipykernel_10760\\3507705981.py:3: SettingWithCopyWarning: \n",
      "A value is trying to be set on a copy of a slice from a DataFrame\n",
      "\n",
      "See the caveats in the documentation: https://pandas.pydata.org/pandas-docs/stable/user_guide/indexing.html#returning-a-view-versus-a-copy\n",
      "  df['DC'].iloc[165] = 14.69\n"
     ]
    }
   ],
   "source": [
    "## we have correct the entry at this position as it was 14.6 9 in place of 14.69\n",
    "\n",
    "df['DC'].iloc[165] = 14.69\n",
    "\n",
    "# converting from 'object' to 'float' \n",
    "df['DC'] = pd.to_numeric(df['DC'], downcast = 'float') "
   ]
  },
  {
   "cell_type": "code",
   "execution_count": 7,
   "id": "601f3900",
   "metadata": {},
   "outputs": [],
   "source": [
    "# Let's remove whitespaces from columns name of dataset\n",
    "df.columns = df.columns.str.strip()"
   ]
  },
  {
   "cell_type": "code",
   "execution_count": 8,
   "id": "72c33276",
   "metadata": {},
   "outputs": [],
   "source": [
    "# df['FWI'] = df['FWI'].astype(float) ---> this will show error as index 165 is not a convertible digit"
   ]
  },
  {
   "cell_type": "code",
   "execution_count": 9,
   "id": "d4d77b88",
   "metadata": {},
   "outputs": [],
   "source": [
    "# Let's analyze what can we enter 'FWI' value at index 165"
   ]
  },
  {
   "cell_type": "code",
   "execution_count": 10,
   "id": "2eedea0b",
   "metadata": {},
   "outputs": [
    {
     "data": {
      "text/html": [
       "<div>\n",
       "<style scoped>\n",
       "    .dataframe tbody tr th:only-of-type {\n",
       "        vertical-align: middle;\n",
       "    }\n",
       "\n",
       "    .dataframe tbody tr th {\n",
       "        vertical-align: top;\n",
       "    }\n",
       "\n",
       "    .dataframe thead th {\n",
       "        text-align: right;\n",
       "    }\n",
       "</style>\n",
       "<table border=\"1\" class=\"dataframe\">\n",
       "  <thead>\n",
       "    <tr style=\"text-align: right;\">\n",
       "      <th></th>\n",
       "      <th>day</th>\n",
       "      <th>month</th>\n",
       "      <th>year</th>\n",
       "      <th>Temperature</th>\n",
       "      <th>RH</th>\n",
       "      <th>Ws</th>\n",
       "      <th>Rain</th>\n",
       "      <th>FFMC</th>\n",
       "      <th>DMC</th>\n",
       "      <th>DC</th>\n",
       "      <th>ISI</th>\n",
       "      <th>BUI</th>\n",
       "      <th>FWI</th>\n",
       "      <th>Classes</th>\n",
       "    </tr>\n",
       "  </thead>\n",
       "  <tbody>\n",
       "    <tr>\n",
       "      <th>77</th>\n",
       "      <td>17</td>\n",
       "      <td>8</td>\n",
       "      <td>2012</td>\n",
       "      <td>37</td>\n",
       "      <td>52</td>\n",
       "      <td>18</td>\n",
       "      <td>0.0</td>\n",
       "      <td>89.3</td>\n",
       "      <td>16.0</td>\n",
       "      <td>100.699997</td>\n",
       "      <td>9.7</td>\n",
       "      <td>22.9</td>\n",
       "      <td>14.6</td>\n",
       "      <td>fire</td>\n",
       "    </tr>\n",
       "    <tr>\n",
       "      <th>149</th>\n",
       "      <td>28</td>\n",
       "      <td>6</td>\n",
       "      <td>2012</td>\n",
       "      <td>37</td>\n",
       "      <td>37</td>\n",
       "      <td>13</td>\n",
       "      <td>0.0</td>\n",
       "      <td>92.5</td>\n",
       "      <td>27.2</td>\n",
       "      <td>52.400002</td>\n",
       "      <td>11.7</td>\n",
       "      <td>27.1</td>\n",
       "      <td>18.4</td>\n",
       "      <td>fire</td>\n",
       "    </tr>\n",
       "    <tr>\n",
       "      <th>150</th>\n",
       "      <td>29</td>\n",
       "      <td>6</td>\n",
       "      <td>2012</td>\n",
       "      <td>37</td>\n",
       "      <td>36</td>\n",
       "      <td>13</td>\n",
       "      <td>0.6</td>\n",
       "      <td>86.2</td>\n",
       "      <td>17.9</td>\n",
       "      <td>36.700001</td>\n",
       "      <td>4.8</td>\n",
       "      <td>17.8</td>\n",
       "      <td>7.2</td>\n",
       "      <td>fire</td>\n",
       "    </tr>\n",
       "    <tr>\n",
       "      <th>165</th>\n",
       "      <td>14</td>\n",
       "      <td>7</td>\n",
       "      <td>2012</td>\n",
       "      <td>37</td>\n",
       "      <td>37</td>\n",
       "      <td>18</td>\n",
       "      <td>0.2</td>\n",
       "      <td>88.9</td>\n",
       "      <td>12.9</td>\n",
       "      <td>14.690000</td>\n",
       "      <td>12.5</td>\n",
       "      <td>10.4</td>\n",
       "      <td>fire</td>\n",
       "      <td>NaN</td>\n",
       "    </tr>\n",
       "    <tr>\n",
       "      <th>182</th>\n",
       "      <td>31</td>\n",
       "      <td>7</td>\n",
       "      <td>2012</td>\n",
       "      <td>37</td>\n",
       "      <td>55</td>\n",
       "      <td>15</td>\n",
       "      <td>0.0</td>\n",
       "      <td>89.3</td>\n",
       "      <td>28.3</td>\n",
       "      <td>67.199997</td>\n",
       "      <td>8.3</td>\n",
       "      <td>28.3</td>\n",
       "      <td>14.5</td>\n",
       "      <td>fire</td>\n",
       "    </tr>\n",
       "    <tr>\n",
       "      <th>190</th>\n",
       "      <td>8</td>\n",
       "      <td>8</td>\n",
       "      <td>2012</td>\n",
       "      <td>37</td>\n",
       "      <td>56</td>\n",
       "      <td>11</td>\n",
       "      <td>0.0</td>\n",
       "      <td>87.4</td>\n",
       "      <td>11.2</td>\n",
       "      <td>20.200001</td>\n",
       "      <td>5.2</td>\n",
       "      <td>11.0</td>\n",
       "      <td>5.9</td>\n",
       "      <td>fire</td>\n",
       "    </tr>\n",
       "    <tr>\n",
       "      <th>196</th>\n",
       "      <td>14</td>\n",
       "      <td>8</td>\n",
       "      <td>2012</td>\n",
       "      <td>37</td>\n",
       "      <td>40</td>\n",
       "      <td>13</td>\n",
       "      <td>0.0</td>\n",
       "      <td>91.9</td>\n",
       "      <td>22.3</td>\n",
       "      <td>55.500000</td>\n",
       "      <td>10.8</td>\n",
       "      <td>22.3</td>\n",
       "      <td>15.7</td>\n",
       "      <td>fire</td>\n",
       "    </tr>\n",
       "    <tr>\n",
       "      <th>200</th>\n",
       "      <td>18</td>\n",
       "      <td>8</td>\n",
       "      <td>2012</td>\n",
       "      <td>37</td>\n",
       "      <td>37</td>\n",
       "      <td>14</td>\n",
       "      <td>0.0</td>\n",
       "      <td>94.3</td>\n",
       "      <td>35.9</td>\n",
       "      <td>86.800003</td>\n",
       "      <td>16.0</td>\n",
       "      <td>35.9</td>\n",
       "      <td>26.3</td>\n",
       "      <td>fire</td>\n",
       "    </tr>\n",
       "    <tr>\n",
       "      <th>204</th>\n",
       "      <td>22</td>\n",
       "      <td>8</td>\n",
       "      <td>2012</td>\n",
       "      <td>37</td>\n",
       "      <td>53</td>\n",
       "      <td>14</td>\n",
       "      <td>0.0</td>\n",
       "      <td>89.5</td>\n",
       "      <td>41.1</td>\n",
       "      <td>127.500000</td>\n",
       "      <td>8.0</td>\n",
       "      <td>45.5</td>\n",
       "      <td>18.1</td>\n",
       "      <td>fire</td>\n",
       "    </tr>\n",
       "  </tbody>\n",
       "</table>\n",
       "</div>"
      ],
      "text/plain": [
       "     day  month  year  Temperature  RH  Ws  Rain  FFMC   DMC          DC  \\\n",
       "77    17      8  2012           37  52  18   0.0  89.3  16.0  100.699997   \n",
       "149   28      6  2012           37  37  13   0.0  92.5  27.2   52.400002   \n",
       "150   29      6  2012           37  36  13   0.6  86.2  17.9   36.700001   \n",
       "165   14      7  2012           37  37  18   0.2  88.9  12.9   14.690000   \n",
       "182   31      7  2012           37  55  15   0.0  89.3  28.3   67.199997   \n",
       "190    8      8  2012           37  56  11   0.0  87.4  11.2   20.200001   \n",
       "196   14      8  2012           37  40  13   0.0  91.9  22.3   55.500000   \n",
       "200   18      8  2012           37  37  14   0.0  94.3  35.9   86.800003   \n",
       "204   22      8  2012           37  53  14   0.0  89.5  41.1  127.500000   \n",
       "\n",
       "      ISI   BUI      FWI  Classes  \n",
       "77    9.7  22.9     14.6  fire     \n",
       "149  11.7  27.1     18.4  fire     \n",
       "150   4.8  17.8      7.2  fire     \n",
       "165  12.5  10.4  fire         NaN  \n",
       "182   8.3  28.3     14.5  fire     \n",
       "190   5.2  11.0      5.9  fire     \n",
       "196  10.8  22.3     15.7  fire     \n",
       "200  16.0  35.9     26.3  fire     \n",
       "204   8.0  45.5     18.1  fire     "
      ]
     },
     "execution_count": 10,
     "metadata": {},
     "output_type": "execute_result"
    }
   ],
   "source": [
    "df[(df['Temperature'] == 37)]"
   ]
  },
  {
   "cell_type": "code",
   "execution_count": 11,
   "id": "8866eeae",
   "metadata": {},
   "outputs": [
    {
     "data": {
      "text/html": [
       "<div>\n",
       "<style scoped>\n",
       "    .dataframe tbody tr th:only-of-type {\n",
       "        vertical-align: middle;\n",
       "    }\n",
       "\n",
       "    .dataframe tbody tr th {\n",
       "        vertical-align: top;\n",
       "    }\n",
       "\n",
       "    .dataframe thead th {\n",
       "        text-align: right;\n",
       "    }\n",
       "</style>\n",
       "<table border=\"1\" class=\"dataframe\">\n",
       "  <thead>\n",
       "    <tr style=\"text-align: right;\">\n",
       "      <th></th>\n",
       "      <th>day</th>\n",
       "      <th>month</th>\n",
       "      <th>year</th>\n",
       "      <th>Temperature</th>\n",
       "      <th>RH</th>\n",
       "      <th>Ws</th>\n",
       "      <th>Rain</th>\n",
       "      <th>FFMC</th>\n",
       "      <th>DMC</th>\n",
       "      <th>DC</th>\n",
       "      <th>ISI</th>\n",
       "      <th>BUI</th>\n",
       "      <th>FWI</th>\n",
       "      <th>Classes</th>\n",
       "    </tr>\n",
       "  </thead>\n",
       "  <tbody>\n",
       "    <tr>\n",
       "      <th>149</th>\n",
       "      <td>28</td>\n",
       "      <td>6</td>\n",
       "      <td>2012</td>\n",
       "      <td>37</td>\n",
       "      <td>37</td>\n",
       "      <td>13</td>\n",
       "      <td>0.0</td>\n",
       "      <td>92.5</td>\n",
       "      <td>27.2</td>\n",
       "      <td>52.400002</td>\n",
       "      <td>11.7</td>\n",
       "      <td>27.1</td>\n",
       "      <td>18.4</td>\n",
       "      <td>fire</td>\n",
       "    </tr>\n",
       "    <tr>\n",
       "      <th>165</th>\n",
       "      <td>14</td>\n",
       "      <td>7</td>\n",
       "      <td>2012</td>\n",
       "      <td>37</td>\n",
       "      <td>37</td>\n",
       "      <td>18</td>\n",
       "      <td>0.2</td>\n",
       "      <td>88.9</td>\n",
       "      <td>12.9</td>\n",
       "      <td>14.690000</td>\n",
       "      <td>12.5</td>\n",
       "      <td>10.4</td>\n",
       "      <td>fire</td>\n",
       "      <td>NaN</td>\n",
       "    </tr>\n",
       "    <tr>\n",
       "      <th>200</th>\n",
       "      <td>18</td>\n",
       "      <td>8</td>\n",
       "      <td>2012</td>\n",
       "      <td>37</td>\n",
       "      <td>37</td>\n",
       "      <td>14</td>\n",
       "      <td>0.0</td>\n",
       "      <td>94.3</td>\n",
       "      <td>35.9</td>\n",
       "      <td>86.800003</td>\n",
       "      <td>16.0</td>\n",
       "      <td>35.9</td>\n",
       "      <td>26.3</td>\n",
       "      <td>fire</td>\n",
       "    </tr>\n",
       "    <tr>\n",
       "      <th>208</th>\n",
       "      <td>26</td>\n",
       "      <td>8</td>\n",
       "      <td>2012</td>\n",
       "      <td>33</td>\n",
       "      <td>37</td>\n",
       "      <td>16</td>\n",
       "      <td>0.0</td>\n",
       "      <td>92.2</td>\n",
       "      <td>61.3</td>\n",
       "      <td>167.199997</td>\n",
       "      <td>13.1</td>\n",
       "      <td>64.0</td>\n",
       "      <td>30.3</td>\n",
       "      <td>fire</td>\n",
       "    </tr>\n",
       "  </tbody>\n",
       "</table>\n",
       "</div>"
      ],
      "text/plain": [
       "     day  month  year  Temperature  RH  Ws  Rain  FFMC   DMC          DC  \\\n",
       "149   28      6  2012           37  37  13   0.0  92.5  27.2   52.400002   \n",
       "165   14      7  2012           37  37  18   0.2  88.9  12.9   14.690000   \n",
       "200   18      8  2012           37  37  14   0.0  94.3  35.9   86.800003   \n",
       "208   26      8  2012           33  37  16   0.0  92.2  61.3  167.199997   \n",
       "\n",
       "      ISI   BUI      FWI  Classes  \n",
       "149  11.7  27.1     18.4  fire     \n",
       "165  12.5  10.4  fire         NaN  \n",
       "200  16.0  35.9     26.3  fire     \n",
       "208  13.1  64.0     30.3  fire     "
      ]
     },
     "execution_count": 11,
     "metadata": {},
     "output_type": "execute_result"
    }
   ],
   "source": [
    "df[(df['RH'] == 37)]"
   ]
  },
  {
   "cell_type": "code",
   "execution_count": 12,
   "id": "2311352f",
   "metadata": {},
   "outputs": [
    {
     "data": {
      "text/html": [
       "<div>\n",
       "<style scoped>\n",
       "    .dataframe tbody tr th:only-of-type {\n",
       "        vertical-align: middle;\n",
       "    }\n",
       "\n",
       "    .dataframe tbody tr th {\n",
       "        vertical-align: top;\n",
       "    }\n",
       "\n",
       "    .dataframe thead th {\n",
       "        text-align: right;\n",
       "    }\n",
       "</style>\n",
       "<table border=\"1\" class=\"dataframe\">\n",
       "  <thead>\n",
       "    <tr style=\"text-align: right;\">\n",
       "      <th></th>\n",
       "      <th>day</th>\n",
       "      <th>month</th>\n",
       "      <th>year</th>\n",
       "      <th>Temperature</th>\n",
       "      <th>RH</th>\n",
       "      <th>Ws</th>\n",
       "      <th>Rain</th>\n",
       "      <th>FFMC</th>\n",
       "      <th>DMC</th>\n",
       "      <th>DC</th>\n",
       "      <th>ISI</th>\n",
       "      <th>BUI</th>\n",
       "      <th>FWI</th>\n",
       "      <th>Classes</th>\n",
       "    </tr>\n",
       "  </thead>\n",
       "  <tbody>\n",
       "    <tr>\n",
       "      <th>0</th>\n",
       "      <td>1</td>\n",
       "      <td>6</td>\n",
       "      <td>2012</td>\n",
       "      <td>29</td>\n",
       "      <td>57</td>\n",
       "      <td>18</td>\n",
       "      <td>0.0</td>\n",
       "      <td>65.7</td>\n",
       "      <td>3.4</td>\n",
       "      <td>7.600000</td>\n",
       "      <td>1.3</td>\n",
       "      <td>3.4</td>\n",
       "      <td>0.5</td>\n",
       "      <td>not fire</td>\n",
       "    </tr>\n",
       "    <tr>\n",
       "      <th>22</th>\n",
       "      <td>23</td>\n",
       "      <td>6</td>\n",
       "      <td>2012</td>\n",
       "      <td>32</td>\n",
       "      <td>62</td>\n",
       "      <td>18</td>\n",
       "      <td>0.1</td>\n",
       "      <td>81.4</td>\n",
       "      <td>8.2</td>\n",
       "      <td>47.700001</td>\n",
       "      <td>3.3</td>\n",
       "      <td>11.5</td>\n",
       "      <td>3.8</td>\n",
       "      <td>fire</td>\n",
       "    </tr>\n",
       "    <tr>\n",
       "      <th>25</th>\n",
       "      <td>26</td>\n",
       "      <td>6</td>\n",
       "      <td>2012</td>\n",
       "      <td>31</td>\n",
       "      <td>64</td>\n",
       "      <td>18</td>\n",
       "      <td>0.0</td>\n",
       "      <td>86.8</td>\n",
       "      <td>17.8</td>\n",
       "      <td>71.800003</td>\n",
       "      <td>6.7</td>\n",
       "      <td>21.6</td>\n",
       "      <td>10.6</td>\n",
       "      <td>fire</td>\n",
       "    </tr>\n",
       "    <tr>\n",
       "      <th>26</th>\n",
       "      <td>27</td>\n",
       "      <td>6</td>\n",
       "      <td>2012</td>\n",
       "      <td>34</td>\n",
       "      <td>53</td>\n",
       "      <td>18</td>\n",
       "      <td>0.0</td>\n",
       "      <td>89.0</td>\n",
       "      <td>21.6</td>\n",
       "      <td>80.300003</td>\n",
       "      <td>9.2</td>\n",
       "      <td>25.8</td>\n",
       "      <td>15</td>\n",
       "      <td>fire</td>\n",
       "    </tr>\n",
       "    <tr>\n",
       "      <th>36</th>\n",
       "      <td>7</td>\n",
       "      <td>7</td>\n",
       "      <td>2012</td>\n",
       "      <td>35</td>\n",
       "      <td>64</td>\n",
       "      <td>18</td>\n",
       "      <td>0.2</td>\n",
       "      <td>80.0</td>\n",
       "      <td>9.7</td>\n",
       "      <td>40.400002</td>\n",
       "      <td>2.8</td>\n",
       "      <td>12.1</td>\n",
       "      <td>3.2</td>\n",
       "      <td>not fire</td>\n",
       "    </tr>\n",
       "    <tr>\n",
       "      <th>51</th>\n",
       "      <td>22</td>\n",
       "      <td>7</td>\n",
       "      <td>2012</td>\n",
       "      <td>28</td>\n",
       "      <td>79</td>\n",
       "      <td>18</td>\n",
       "      <td>0.1</td>\n",
       "      <td>73.4</td>\n",
       "      <td>16.4</td>\n",
       "      <td>79.900002</td>\n",
       "      <td>1.8</td>\n",
       "      <td>21.7</td>\n",
       "      <td>2.8</td>\n",
       "      <td>not fire</td>\n",
       "    </tr>\n",
       "    <tr>\n",
       "      <th>54</th>\n",
       "      <td>25</td>\n",
       "      <td>7</td>\n",
       "      <td>2012</td>\n",
       "      <td>31</td>\n",
       "      <td>65</td>\n",
       "      <td>18</td>\n",
       "      <td>0.0</td>\n",
       "      <td>84.3</td>\n",
       "      <td>12.5</td>\n",
       "      <td>88.699997</td>\n",
       "      <td>4.8</td>\n",
       "      <td>18.5</td>\n",
       "      <td>7.3</td>\n",
       "      <td>fire</td>\n",
       "    </tr>\n",
       "    <tr>\n",
       "      <th>68</th>\n",
       "      <td>8</td>\n",
       "      <td>8</td>\n",
       "      <td>2012</td>\n",
       "      <td>32</td>\n",
       "      <td>60</td>\n",
       "      <td>18</td>\n",
       "      <td>0.3</td>\n",
       "      <td>77.1</td>\n",
       "      <td>11.3</td>\n",
       "      <td>47.000000</td>\n",
       "      <td>2.2</td>\n",
       "      <td>14.1</td>\n",
       "      <td>2.6</td>\n",
       "      <td>not fire</td>\n",
       "    </tr>\n",
       "    <tr>\n",
       "      <th>76</th>\n",
       "      <td>16</td>\n",
       "      <td>8</td>\n",
       "      <td>2012</td>\n",
       "      <td>36</td>\n",
       "      <td>61</td>\n",
       "      <td>18</td>\n",
       "      <td>0.3</td>\n",
       "      <td>80.2</td>\n",
       "      <td>11.7</td>\n",
       "      <td>90.400002</td>\n",
       "      <td>2.8</td>\n",
       "      <td>17.6</td>\n",
       "      <td>4.2</td>\n",
       "      <td>fire</td>\n",
       "    </tr>\n",
       "    <tr>\n",
       "      <th>77</th>\n",
       "      <td>17</td>\n",
       "      <td>8</td>\n",
       "      <td>2012</td>\n",
       "      <td>37</td>\n",
       "      <td>52</td>\n",
       "      <td>18</td>\n",
       "      <td>0.0</td>\n",
       "      <td>89.3</td>\n",
       "      <td>16.0</td>\n",
       "      <td>100.699997</td>\n",
       "      <td>9.7</td>\n",
       "      <td>22.9</td>\n",
       "      <td>14.6</td>\n",
       "      <td>fire</td>\n",
       "    </tr>\n",
       "    <tr>\n",
       "      <th>78</th>\n",
       "      <td>18</td>\n",
       "      <td>8</td>\n",
       "      <td>2012</td>\n",
       "      <td>36</td>\n",
       "      <td>54</td>\n",
       "      <td>18</td>\n",
       "      <td>0.0</td>\n",
       "      <td>89.4</td>\n",
       "      <td>20.0</td>\n",
       "      <td>110.900002</td>\n",
       "      <td>9.7</td>\n",
       "      <td>27.5</td>\n",
       "      <td>16.1</td>\n",
       "      <td>fire</td>\n",
       "    </tr>\n",
       "    <tr>\n",
       "      <th>82</th>\n",
       "      <td>22</td>\n",
       "      <td>8</td>\n",
       "      <td>2012</td>\n",
       "      <td>36</td>\n",
       "      <td>55</td>\n",
       "      <td>18</td>\n",
       "      <td>0.0</td>\n",
       "      <td>89.1</td>\n",
       "      <td>33.5</td>\n",
       "      <td>151.300003</td>\n",
       "      <td>9.9</td>\n",
       "      <td>43.1</td>\n",
       "      <td>20.4</td>\n",
       "      <td>fire</td>\n",
       "    </tr>\n",
       "    <tr>\n",
       "      <th>86</th>\n",
       "      <td>26</td>\n",
       "      <td>8</td>\n",
       "      <td>2012</td>\n",
       "      <td>31</td>\n",
       "      <td>78</td>\n",
       "      <td>18</td>\n",
       "      <td>0.0</td>\n",
       "      <td>85.8</td>\n",
       "      <td>45.6</td>\n",
       "      <td>190.600006</td>\n",
       "      <td>4.7</td>\n",
       "      <td>57.1</td>\n",
       "      <td>13.7</td>\n",
       "      <td>fire</td>\n",
       "    </tr>\n",
       "    <tr>\n",
       "      <th>89</th>\n",
       "      <td>29</td>\n",
       "      <td>8</td>\n",
       "      <td>2012</td>\n",
       "      <td>35</td>\n",
       "      <td>48</td>\n",
       "      <td>18</td>\n",
       "      <td>0.0</td>\n",
       "      <td>90.1</td>\n",
       "      <td>54.2</td>\n",
       "      <td>220.399994</td>\n",
       "      <td>12.5</td>\n",
       "      <td>67.4</td>\n",
       "      <td>30.2</td>\n",
       "      <td>fire</td>\n",
       "    </tr>\n",
       "    <tr>\n",
       "      <th>111</th>\n",
       "      <td>20</td>\n",
       "      <td>9</td>\n",
       "      <td>2012</td>\n",
       "      <td>28</td>\n",
       "      <td>84</td>\n",
       "      <td>18</td>\n",
       "      <td>0.0</td>\n",
       "      <td>83.8</td>\n",
       "      <td>13.5</td>\n",
       "      <td>49.299999</td>\n",
       "      <td>4.5</td>\n",
       "      <td>16.0</td>\n",
       "      <td>6.3</td>\n",
       "      <td>fire</td>\n",
       "    </tr>\n",
       "    <tr>\n",
       "      <th>130</th>\n",
       "      <td>9</td>\n",
       "      <td>6</td>\n",
       "      <td>2012</td>\n",
       "      <td>27</td>\n",
       "      <td>59</td>\n",
       "      <td>18</td>\n",
       "      <td>0.1</td>\n",
       "      <td>78.1</td>\n",
       "      <td>8.5</td>\n",
       "      <td>14.700000</td>\n",
       "      <td>2.4</td>\n",
       "      <td>8.3</td>\n",
       "      <td>1.9</td>\n",
       "      <td>not fire</td>\n",
       "    </tr>\n",
       "    <tr>\n",
       "      <th>152</th>\n",
       "      <td>1</td>\n",
       "      <td>7</td>\n",
       "      <td>2012</td>\n",
       "      <td>28</td>\n",
       "      <td>58</td>\n",
       "      <td>18</td>\n",
       "      <td>2.2</td>\n",
       "      <td>63.7</td>\n",
       "      <td>3.2</td>\n",
       "      <td>8.500000</td>\n",
       "      <td>1.2</td>\n",
       "      <td>3.3</td>\n",
       "      <td>0.5</td>\n",
       "      <td>not fire</td>\n",
       "    </tr>\n",
       "    <tr>\n",
       "      <th>155</th>\n",
       "      <td>4</td>\n",
       "      <td>7</td>\n",
       "      <td>2012</td>\n",
       "      <td>34</td>\n",
       "      <td>58</td>\n",
       "      <td>18</td>\n",
       "      <td>0.0</td>\n",
       "      <td>88.0</td>\n",
       "      <td>13.6</td>\n",
       "      <td>36.799999</td>\n",
       "      <td>8.0</td>\n",
       "      <td>14.1</td>\n",
       "      <td>9.9</td>\n",
       "      <td>fire</td>\n",
       "    </tr>\n",
       "    <tr>\n",
       "      <th>156</th>\n",
       "      <td>5</td>\n",
       "      <td>7</td>\n",
       "      <td>2012</td>\n",
       "      <td>34</td>\n",
       "      <td>45</td>\n",
       "      <td>18</td>\n",
       "      <td>0.0</td>\n",
       "      <td>90.5</td>\n",
       "      <td>18.7</td>\n",
       "      <td>46.400002</td>\n",
       "      <td>11.3</td>\n",
       "      <td>18.7</td>\n",
       "      <td>15</td>\n",
       "      <td>fire</td>\n",
       "    </tr>\n",
       "    <tr>\n",
       "      <th>159</th>\n",
       "      <td>8</td>\n",
       "      <td>7</td>\n",
       "      <td>2012</td>\n",
       "      <td>35</td>\n",
       "      <td>47</td>\n",
       "      <td>18</td>\n",
       "      <td>6.0</td>\n",
       "      <td>80.8</td>\n",
       "      <td>9.8</td>\n",
       "      <td>9.700000</td>\n",
       "      <td>3.1</td>\n",
       "      <td>9.4</td>\n",
       "      <td>3</td>\n",
       "      <td>fire</td>\n",
       "    </tr>\n",
       "    <tr>\n",
       "      <th>165</th>\n",
       "      <td>14</td>\n",
       "      <td>7</td>\n",
       "      <td>2012</td>\n",
       "      <td>37</td>\n",
       "      <td>37</td>\n",
       "      <td>18</td>\n",
       "      <td>0.2</td>\n",
       "      <td>88.9</td>\n",
       "      <td>12.9</td>\n",
       "      <td>14.690000</td>\n",
       "      <td>12.5</td>\n",
       "      <td>10.4</td>\n",
       "      <td>fire</td>\n",
       "      <td>NaN</td>\n",
       "    </tr>\n",
       "    <tr>\n",
       "      <th>172</th>\n",
       "      <td>21</td>\n",
       "      <td>7</td>\n",
       "      <td>2012</td>\n",
       "      <td>36</td>\n",
       "      <td>29</td>\n",
       "      <td>18</td>\n",
       "      <td>0.0</td>\n",
       "      <td>93.9</td>\n",
       "      <td>39.6</td>\n",
       "      <td>80.599998</td>\n",
       "      <td>18.5</td>\n",
       "      <td>39.5</td>\n",
       "      <td>30</td>\n",
       "      <td>fire</td>\n",
       "    </tr>\n",
       "    <tr>\n",
       "      <th>173</th>\n",
       "      <td>22</td>\n",
       "      <td>7</td>\n",
       "      <td>2012</td>\n",
       "      <td>32</td>\n",
       "      <td>48</td>\n",
       "      <td>18</td>\n",
       "      <td>0.0</td>\n",
       "      <td>91.5</td>\n",
       "      <td>44.2</td>\n",
       "      <td>90.099998</td>\n",
       "      <td>13.2</td>\n",
       "      <td>44.0</td>\n",
       "      <td>25.4</td>\n",
       "      <td>fire</td>\n",
       "    </tr>\n",
       "    <tr>\n",
       "      <th>178</th>\n",
       "      <td>27</td>\n",
       "      <td>7</td>\n",
       "      <td>2012</td>\n",
       "      <td>29</td>\n",
       "      <td>87</td>\n",
       "      <td>18</td>\n",
       "      <td>0.0</td>\n",
       "      <td>80.0</td>\n",
       "      <td>11.8</td>\n",
       "      <td>28.299999</td>\n",
       "      <td>2.8</td>\n",
       "      <td>11.8</td>\n",
       "      <td>3.2</td>\n",
       "      <td>not fire</td>\n",
       "    </tr>\n",
       "    <tr>\n",
       "      <th>207</th>\n",
       "      <td>25</td>\n",
       "      <td>8</td>\n",
       "      <td>2012</td>\n",
       "      <td>34</td>\n",
       "      <td>40</td>\n",
       "      <td>18</td>\n",
       "      <td>0.0</td>\n",
       "      <td>92.1</td>\n",
       "      <td>56.3</td>\n",
       "      <td>157.500000</td>\n",
       "      <td>14.3</td>\n",
       "      <td>59.5</td>\n",
       "      <td>31.1</td>\n",
       "      <td>fire</td>\n",
       "    </tr>\n",
       "    <tr>\n",
       "      <th>242</th>\n",
       "      <td>29</td>\n",
       "      <td>9</td>\n",
       "      <td>2012</td>\n",
       "      <td>24</td>\n",
       "      <td>54</td>\n",
       "      <td>18</td>\n",
       "      <td>0.1</td>\n",
       "      <td>79.7</td>\n",
       "      <td>4.3</td>\n",
       "      <td>15.200000</td>\n",
       "      <td>1.7</td>\n",
       "      <td>5.1</td>\n",
       "      <td>0.7</td>\n",
       "      <td>not fire</td>\n",
       "    </tr>\n",
       "  </tbody>\n",
       "</table>\n",
       "</div>"
      ],
      "text/plain": [
       "     day  month  year  Temperature  RH  Ws  Rain  FFMC   DMC          DC  \\\n",
       "0      1      6  2012           29  57  18   0.0  65.7   3.4    7.600000   \n",
       "22    23      6  2012           32  62  18   0.1  81.4   8.2   47.700001   \n",
       "25    26      6  2012           31  64  18   0.0  86.8  17.8   71.800003   \n",
       "26    27      6  2012           34  53  18   0.0  89.0  21.6   80.300003   \n",
       "36     7      7  2012           35  64  18   0.2  80.0   9.7   40.400002   \n",
       "51    22      7  2012           28  79  18   0.1  73.4  16.4   79.900002   \n",
       "54    25      7  2012           31  65  18   0.0  84.3  12.5   88.699997   \n",
       "68     8      8  2012           32  60  18   0.3  77.1  11.3   47.000000   \n",
       "76    16      8  2012           36  61  18   0.3  80.2  11.7   90.400002   \n",
       "77    17      8  2012           37  52  18   0.0  89.3  16.0  100.699997   \n",
       "78    18      8  2012           36  54  18   0.0  89.4  20.0  110.900002   \n",
       "82    22      8  2012           36  55  18   0.0  89.1  33.5  151.300003   \n",
       "86    26      8  2012           31  78  18   0.0  85.8  45.6  190.600006   \n",
       "89    29      8  2012           35  48  18   0.0  90.1  54.2  220.399994   \n",
       "111   20      9  2012           28  84  18   0.0  83.8  13.5   49.299999   \n",
       "130    9      6  2012           27  59  18   0.1  78.1   8.5   14.700000   \n",
       "152    1      7  2012           28  58  18   2.2  63.7   3.2    8.500000   \n",
       "155    4      7  2012           34  58  18   0.0  88.0  13.6   36.799999   \n",
       "156    5      7  2012           34  45  18   0.0  90.5  18.7   46.400002   \n",
       "159    8      7  2012           35  47  18   6.0  80.8   9.8    9.700000   \n",
       "165   14      7  2012           37  37  18   0.2  88.9  12.9   14.690000   \n",
       "172   21      7  2012           36  29  18   0.0  93.9  39.6   80.599998   \n",
       "173   22      7  2012           32  48  18   0.0  91.5  44.2   90.099998   \n",
       "178   27      7  2012           29  87  18   0.0  80.0  11.8   28.299999   \n",
       "207   25      8  2012           34  40  18   0.0  92.1  56.3  157.500000   \n",
       "242   29      9  2012           24  54  18   0.1  79.7   4.3   15.200000   \n",
       "\n",
       "      ISI   BUI      FWI      Classes  \n",
       "0     1.3   3.4      0.5  not fire     \n",
       "22    3.3  11.5      3.8      fire     \n",
       "25    6.7  21.6     10.6      fire     \n",
       "26    9.2  25.8       15      fire     \n",
       "36    2.8  12.1      3.2  not fire     \n",
       "51    1.8  21.7      2.8  not fire     \n",
       "54    4.8  18.5      7.3      fire     \n",
       "68    2.2  14.1      2.6  not fire     \n",
       "76    2.8  17.6      4.2      fire     \n",
       "77    9.7  22.9     14.6      fire     \n",
       "78    9.7  27.5     16.1      fire     \n",
       "82    9.9  43.1     20.4      fire     \n",
       "86    4.7  57.1     13.7        fire   \n",
       "89   12.5  67.4     30.2      fire     \n",
       "111   4.5  16.0      6.3         fire  \n",
       "130   2.4   8.3      1.9  not fire     \n",
       "152   1.2   3.3      0.5  not fire     \n",
       "155   8.0  14.1      9.9      fire     \n",
       "156  11.3  18.7       15      fire     \n",
       "159   3.1   9.4        3      fire     \n",
       "165  12.5  10.4  fire             NaN  \n",
       "172  18.5  39.5       30      fire     \n",
       "173  13.2  44.0     25.4      fire     \n",
       "178   2.8  11.8      3.2  not fire     \n",
       "207  14.3  59.5     31.1      fire     \n",
       "242   1.7   5.1      0.7  not fire     "
      ]
     },
     "execution_count": 12,
     "metadata": {},
     "output_type": "execute_result"
    }
   ],
   "source": [
    "df[(df['Ws'] == 18)]"
   ]
  },
  {
   "cell_type": "code",
   "execution_count": 13,
   "id": "16e944bf",
   "metadata": {},
   "outputs": [
    {
     "name": "stderr",
     "output_type": "stream",
     "text": [
      "C:\\Users\\ukrum\\AppData\\Local\\Temp\\ipykernel_10760\\3026848096.py:3: SettingWithCopyWarning: \n",
      "A value is trying to be set on a copy of a slice from a DataFrame\n",
      "\n",
      "See the caveats in the documentation: https://pandas.pydata.org/pandas-docs/stable/user_guide/indexing.html#returning-a-view-versus-a-copy\n",
      "  df['FWI'].iloc[165] = 0\n"
     ]
    }
   ],
   "source": [
    "# From above analysis we can assign 0 for FWI. Let's do that\n",
    "\n",
    "df['FWI'].iloc[165] = 0"
   ]
  },
  {
   "cell_type": "markdown",
   "id": "a90ec925",
   "metadata": {},
   "source": [
    "## Let's try what value can we replace 'NaN' value for index 165"
   ]
  },
  {
   "cell_type": "code",
   "execution_count": 14,
   "id": "59323b43",
   "metadata": {},
   "outputs": [
    {
     "data": {
      "text/html": [
       "<div>\n",
       "<style scoped>\n",
       "    .dataframe tbody tr th:only-of-type {\n",
       "        vertical-align: middle;\n",
       "    }\n",
       "\n",
       "    .dataframe tbody tr th {\n",
       "        vertical-align: top;\n",
       "    }\n",
       "\n",
       "    .dataframe thead th {\n",
       "        text-align: right;\n",
       "    }\n",
       "</style>\n",
       "<table border=\"1\" class=\"dataframe\">\n",
       "  <thead>\n",
       "    <tr style=\"text-align: right;\">\n",
       "      <th></th>\n",
       "      <th>day</th>\n",
       "      <th>month</th>\n",
       "      <th>year</th>\n",
       "      <th>Temperature</th>\n",
       "      <th>RH</th>\n",
       "      <th>Ws</th>\n",
       "      <th>Rain</th>\n",
       "      <th>FFMC</th>\n",
       "      <th>DMC</th>\n",
       "      <th>DC</th>\n",
       "      <th>ISI</th>\n",
       "      <th>BUI</th>\n",
       "      <th>FWI</th>\n",
       "      <th>Classes</th>\n",
       "    </tr>\n",
       "  </thead>\n",
       "  <tbody>\n",
       "    <tr>\n",
       "      <th>77</th>\n",
       "      <td>17</td>\n",
       "      <td>8</td>\n",
       "      <td>2012</td>\n",
       "      <td>37</td>\n",
       "      <td>52</td>\n",
       "      <td>18</td>\n",
       "      <td>0.0</td>\n",
       "      <td>89.3</td>\n",
       "      <td>16.0</td>\n",
       "      <td>100.699997</td>\n",
       "      <td>9.7</td>\n",
       "      <td>22.9</td>\n",
       "      <td>14.6</td>\n",
       "      <td>fire</td>\n",
       "    </tr>\n",
       "    <tr>\n",
       "      <th>149</th>\n",
       "      <td>28</td>\n",
       "      <td>6</td>\n",
       "      <td>2012</td>\n",
       "      <td>37</td>\n",
       "      <td>37</td>\n",
       "      <td>13</td>\n",
       "      <td>0.0</td>\n",
       "      <td>92.5</td>\n",
       "      <td>27.2</td>\n",
       "      <td>52.400002</td>\n",
       "      <td>11.7</td>\n",
       "      <td>27.1</td>\n",
       "      <td>18.4</td>\n",
       "      <td>fire</td>\n",
       "    </tr>\n",
       "    <tr>\n",
       "      <th>150</th>\n",
       "      <td>29</td>\n",
       "      <td>6</td>\n",
       "      <td>2012</td>\n",
       "      <td>37</td>\n",
       "      <td>36</td>\n",
       "      <td>13</td>\n",
       "      <td>0.6</td>\n",
       "      <td>86.2</td>\n",
       "      <td>17.9</td>\n",
       "      <td>36.700001</td>\n",
       "      <td>4.8</td>\n",
       "      <td>17.8</td>\n",
       "      <td>7.2</td>\n",
       "      <td>fire</td>\n",
       "    </tr>\n",
       "    <tr>\n",
       "      <th>165</th>\n",
       "      <td>14</td>\n",
       "      <td>7</td>\n",
       "      <td>2012</td>\n",
       "      <td>37</td>\n",
       "      <td>37</td>\n",
       "      <td>18</td>\n",
       "      <td>0.2</td>\n",
       "      <td>88.9</td>\n",
       "      <td>12.9</td>\n",
       "      <td>14.690000</td>\n",
       "      <td>12.5</td>\n",
       "      <td>10.4</td>\n",
       "      <td>0</td>\n",
       "      <td>NaN</td>\n",
       "    </tr>\n",
       "    <tr>\n",
       "      <th>182</th>\n",
       "      <td>31</td>\n",
       "      <td>7</td>\n",
       "      <td>2012</td>\n",
       "      <td>37</td>\n",
       "      <td>55</td>\n",
       "      <td>15</td>\n",
       "      <td>0.0</td>\n",
       "      <td>89.3</td>\n",
       "      <td>28.3</td>\n",
       "      <td>67.199997</td>\n",
       "      <td>8.3</td>\n",
       "      <td>28.3</td>\n",
       "      <td>14.5</td>\n",
       "      <td>fire</td>\n",
       "    </tr>\n",
       "    <tr>\n",
       "      <th>190</th>\n",
       "      <td>8</td>\n",
       "      <td>8</td>\n",
       "      <td>2012</td>\n",
       "      <td>37</td>\n",
       "      <td>56</td>\n",
       "      <td>11</td>\n",
       "      <td>0.0</td>\n",
       "      <td>87.4</td>\n",
       "      <td>11.2</td>\n",
       "      <td>20.200001</td>\n",
       "      <td>5.2</td>\n",
       "      <td>11.0</td>\n",
       "      <td>5.9</td>\n",
       "      <td>fire</td>\n",
       "    </tr>\n",
       "    <tr>\n",
       "      <th>196</th>\n",
       "      <td>14</td>\n",
       "      <td>8</td>\n",
       "      <td>2012</td>\n",
       "      <td>37</td>\n",
       "      <td>40</td>\n",
       "      <td>13</td>\n",
       "      <td>0.0</td>\n",
       "      <td>91.9</td>\n",
       "      <td>22.3</td>\n",
       "      <td>55.500000</td>\n",
       "      <td>10.8</td>\n",
       "      <td>22.3</td>\n",
       "      <td>15.7</td>\n",
       "      <td>fire</td>\n",
       "    </tr>\n",
       "    <tr>\n",
       "      <th>200</th>\n",
       "      <td>18</td>\n",
       "      <td>8</td>\n",
       "      <td>2012</td>\n",
       "      <td>37</td>\n",
       "      <td>37</td>\n",
       "      <td>14</td>\n",
       "      <td>0.0</td>\n",
       "      <td>94.3</td>\n",
       "      <td>35.9</td>\n",
       "      <td>86.800003</td>\n",
       "      <td>16.0</td>\n",
       "      <td>35.9</td>\n",
       "      <td>26.3</td>\n",
       "      <td>fire</td>\n",
       "    </tr>\n",
       "    <tr>\n",
       "      <th>204</th>\n",
       "      <td>22</td>\n",
       "      <td>8</td>\n",
       "      <td>2012</td>\n",
       "      <td>37</td>\n",
       "      <td>53</td>\n",
       "      <td>14</td>\n",
       "      <td>0.0</td>\n",
       "      <td>89.5</td>\n",
       "      <td>41.1</td>\n",
       "      <td>127.500000</td>\n",
       "      <td>8.0</td>\n",
       "      <td>45.5</td>\n",
       "      <td>18.1</td>\n",
       "      <td>fire</td>\n",
       "    </tr>\n",
       "  </tbody>\n",
       "</table>\n",
       "</div>"
      ],
      "text/plain": [
       "     day  month  year  Temperature  RH  Ws  Rain  FFMC   DMC          DC  \\\n",
       "77    17      8  2012           37  52  18   0.0  89.3  16.0  100.699997   \n",
       "149   28      6  2012           37  37  13   0.0  92.5  27.2   52.400002   \n",
       "150   29      6  2012           37  36  13   0.6  86.2  17.9   36.700001   \n",
       "165   14      7  2012           37  37  18   0.2  88.9  12.9   14.690000   \n",
       "182   31      7  2012           37  55  15   0.0  89.3  28.3   67.199997   \n",
       "190    8      8  2012           37  56  11   0.0  87.4  11.2   20.200001   \n",
       "196   14      8  2012           37  40  13   0.0  91.9  22.3   55.500000   \n",
       "200   18      8  2012           37  37  14   0.0  94.3  35.9   86.800003   \n",
       "204   22      8  2012           37  53  14   0.0  89.5  41.1  127.500000   \n",
       "\n",
       "      ISI   BUI   FWI  Classes  \n",
       "77    9.7  22.9  14.6  fire     \n",
       "149  11.7  27.1  18.4  fire     \n",
       "150   4.8  17.8   7.2  fire     \n",
       "165  12.5  10.4     0      NaN  \n",
       "182   8.3  28.3  14.5  fire     \n",
       "190   5.2  11.0   5.9  fire     \n",
       "196  10.8  22.3  15.7  fire     \n",
       "200  16.0  35.9  26.3  fire     \n",
       "204   8.0  45.5  18.1  fire     "
      ]
     },
     "execution_count": 14,
     "metadata": {},
     "output_type": "execute_result"
    }
   ],
   "source": [
    "df[df['Temperature'] == 37] ## From below, it seems like fire can be replaced....lets check other features"
   ]
  },
  {
   "cell_type": "code",
   "execution_count": 15,
   "id": "bea01bca",
   "metadata": {},
   "outputs": [
    {
     "data": {
      "text/html": [
       "<div>\n",
       "<style scoped>\n",
       "    .dataframe tbody tr th:only-of-type {\n",
       "        vertical-align: middle;\n",
       "    }\n",
       "\n",
       "    .dataframe tbody tr th {\n",
       "        vertical-align: top;\n",
       "    }\n",
       "\n",
       "    .dataframe thead th {\n",
       "        text-align: right;\n",
       "    }\n",
       "</style>\n",
       "<table border=\"1\" class=\"dataframe\">\n",
       "  <thead>\n",
       "    <tr style=\"text-align: right;\">\n",
       "      <th></th>\n",
       "      <th>day</th>\n",
       "      <th>month</th>\n",
       "      <th>year</th>\n",
       "      <th>Temperature</th>\n",
       "      <th>RH</th>\n",
       "      <th>Ws</th>\n",
       "      <th>Rain</th>\n",
       "      <th>FFMC</th>\n",
       "      <th>DMC</th>\n",
       "      <th>DC</th>\n",
       "      <th>ISI</th>\n",
       "      <th>BUI</th>\n",
       "      <th>FWI</th>\n",
       "      <th>Classes</th>\n",
       "    </tr>\n",
       "  </thead>\n",
       "  <tbody>\n",
       "    <tr>\n",
       "      <th>149</th>\n",
       "      <td>28</td>\n",
       "      <td>6</td>\n",
       "      <td>2012</td>\n",
       "      <td>37</td>\n",
       "      <td>37</td>\n",
       "      <td>13</td>\n",
       "      <td>0.0</td>\n",
       "      <td>92.5</td>\n",
       "      <td>27.2</td>\n",
       "      <td>52.400002</td>\n",
       "      <td>11.7</td>\n",
       "      <td>27.1</td>\n",
       "      <td>18.4</td>\n",
       "      <td>fire</td>\n",
       "    </tr>\n",
       "    <tr>\n",
       "      <th>165</th>\n",
       "      <td>14</td>\n",
       "      <td>7</td>\n",
       "      <td>2012</td>\n",
       "      <td>37</td>\n",
       "      <td>37</td>\n",
       "      <td>18</td>\n",
       "      <td>0.2</td>\n",
       "      <td>88.9</td>\n",
       "      <td>12.9</td>\n",
       "      <td>14.690000</td>\n",
       "      <td>12.5</td>\n",
       "      <td>10.4</td>\n",
       "      <td>0</td>\n",
       "      <td>NaN</td>\n",
       "    </tr>\n",
       "    <tr>\n",
       "      <th>200</th>\n",
       "      <td>18</td>\n",
       "      <td>8</td>\n",
       "      <td>2012</td>\n",
       "      <td>37</td>\n",
       "      <td>37</td>\n",
       "      <td>14</td>\n",
       "      <td>0.0</td>\n",
       "      <td>94.3</td>\n",
       "      <td>35.9</td>\n",
       "      <td>86.800003</td>\n",
       "      <td>16.0</td>\n",
       "      <td>35.9</td>\n",
       "      <td>26.3</td>\n",
       "      <td>fire</td>\n",
       "    </tr>\n",
       "    <tr>\n",
       "      <th>208</th>\n",
       "      <td>26</td>\n",
       "      <td>8</td>\n",
       "      <td>2012</td>\n",
       "      <td>33</td>\n",
       "      <td>37</td>\n",
       "      <td>16</td>\n",
       "      <td>0.0</td>\n",
       "      <td>92.2</td>\n",
       "      <td>61.3</td>\n",
       "      <td>167.199997</td>\n",
       "      <td>13.1</td>\n",
       "      <td>64.0</td>\n",
       "      <td>30.3</td>\n",
       "      <td>fire</td>\n",
       "    </tr>\n",
       "  </tbody>\n",
       "</table>\n",
       "</div>"
      ],
      "text/plain": [
       "     day  month  year  Temperature  RH  Ws  Rain  FFMC   DMC          DC  \\\n",
       "149   28      6  2012           37  37  13   0.0  92.5  27.2   52.400002   \n",
       "165   14      7  2012           37  37  18   0.2  88.9  12.9   14.690000   \n",
       "200   18      8  2012           37  37  14   0.0  94.3  35.9   86.800003   \n",
       "208   26      8  2012           33  37  16   0.0  92.2  61.3  167.199997   \n",
       "\n",
       "      ISI   BUI   FWI  Classes  \n",
       "149  11.7  27.1  18.4  fire     \n",
       "165  12.5  10.4     0      NaN  \n",
       "200  16.0  35.9  26.3  fire     \n",
       "208  13.1  64.0  30.3  fire     "
      ]
     },
     "execution_count": 15,
     "metadata": {},
     "output_type": "execute_result"
    }
   ],
   "source": [
    "df[df['RH'] == 37] ## From below, it seems like fire can be replaced....lets check other features"
   ]
  },
  {
   "cell_type": "code",
   "execution_count": 16,
   "id": "15f15aa5",
   "metadata": {},
   "outputs": [
    {
     "data": {
      "text/html": [
       "<div>\n",
       "<style scoped>\n",
       "    .dataframe tbody tr th:only-of-type {\n",
       "        vertical-align: middle;\n",
       "    }\n",
       "\n",
       "    .dataframe tbody tr th {\n",
       "        vertical-align: top;\n",
       "    }\n",
       "\n",
       "    .dataframe thead th {\n",
       "        text-align: right;\n",
       "    }\n",
       "</style>\n",
       "<table border=\"1\" class=\"dataframe\">\n",
       "  <thead>\n",
       "    <tr style=\"text-align: right;\">\n",
       "      <th></th>\n",
       "      <th>day</th>\n",
       "      <th>month</th>\n",
       "      <th>year</th>\n",
       "      <th>Temperature</th>\n",
       "      <th>RH</th>\n",
       "      <th>Ws</th>\n",
       "      <th>Rain</th>\n",
       "      <th>FFMC</th>\n",
       "      <th>DMC</th>\n",
       "      <th>DC</th>\n",
       "      <th>ISI</th>\n",
       "      <th>BUI</th>\n",
       "      <th>FWI</th>\n",
       "      <th>Classes</th>\n",
       "    </tr>\n",
       "  </thead>\n",
       "  <tbody>\n",
       "    <tr>\n",
       "      <th>0</th>\n",
       "      <td>1</td>\n",
       "      <td>6</td>\n",
       "      <td>2012</td>\n",
       "      <td>29</td>\n",
       "      <td>57</td>\n",
       "      <td>18</td>\n",
       "      <td>0.0</td>\n",
       "      <td>65.7</td>\n",
       "      <td>3.4</td>\n",
       "      <td>7.600000</td>\n",
       "      <td>1.3</td>\n",
       "      <td>3.4</td>\n",
       "      <td>0.5</td>\n",
       "      <td>not fire</td>\n",
       "    </tr>\n",
       "    <tr>\n",
       "      <th>22</th>\n",
       "      <td>23</td>\n",
       "      <td>6</td>\n",
       "      <td>2012</td>\n",
       "      <td>32</td>\n",
       "      <td>62</td>\n",
       "      <td>18</td>\n",
       "      <td>0.1</td>\n",
       "      <td>81.4</td>\n",
       "      <td>8.2</td>\n",
       "      <td>47.700001</td>\n",
       "      <td>3.3</td>\n",
       "      <td>11.5</td>\n",
       "      <td>3.8</td>\n",
       "      <td>fire</td>\n",
       "    </tr>\n",
       "    <tr>\n",
       "      <th>25</th>\n",
       "      <td>26</td>\n",
       "      <td>6</td>\n",
       "      <td>2012</td>\n",
       "      <td>31</td>\n",
       "      <td>64</td>\n",
       "      <td>18</td>\n",
       "      <td>0.0</td>\n",
       "      <td>86.8</td>\n",
       "      <td>17.8</td>\n",
       "      <td>71.800003</td>\n",
       "      <td>6.7</td>\n",
       "      <td>21.6</td>\n",
       "      <td>10.6</td>\n",
       "      <td>fire</td>\n",
       "    </tr>\n",
       "    <tr>\n",
       "      <th>26</th>\n",
       "      <td>27</td>\n",
       "      <td>6</td>\n",
       "      <td>2012</td>\n",
       "      <td>34</td>\n",
       "      <td>53</td>\n",
       "      <td>18</td>\n",
       "      <td>0.0</td>\n",
       "      <td>89.0</td>\n",
       "      <td>21.6</td>\n",
       "      <td>80.300003</td>\n",
       "      <td>9.2</td>\n",
       "      <td>25.8</td>\n",
       "      <td>15</td>\n",
       "      <td>fire</td>\n",
       "    </tr>\n",
       "    <tr>\n",
       "      <th>36</th>\n",
       "      <td>7</td>\n",
       "      <td>7</td>\n",
       "      <td>2012</td>\n",
       "      <td>35</td>\n",
       "      <td>64</td>\n",
       "      <td>18</td>\n",
       "      <td>0.2</td>\n",
       "      <td>80.0</td>\n",
       "      <td>9.7</td>\n",
       "      <td>40.400002</td>\n",
       "      <td>2.8</td>\n",
       "      <td>12.1</td>\n",
       "      <td>3.2</td>\n",
       "      <td>not fire</td>\n",
       "    </tr>\n",
       "    <tr>\n",
       "      <th>51</th>\n",
       "      <td>22</td>\n",
       "      <td>7</td>\n",
       "      <td>2012</td>\n",
       "      <td>28</td>\n",
       "      <td>79</td>\n",
       "      <td>18</td>\n",
       "      <td>0.1</td>\n",
       "      <td>73.4</td>\n",
       "      <td>16.4</td>\n",
       "      <td>79.900002</td>\n",
       "      <td>1.8</td>\n",
       "      <td>21.7</td>\n",
       "      <td>2.8</td>\n",
       "      <td>not fire</td>\n",
       "    </tr>\n",
       "    <tr>\n",
       "      <th>54</th>\n",
       "      <td>25</td>\n",
       "      <td>7</td>\n",
       "      <td>2012</td>\n",
       "      <td>31</td>\n",
       "      <td>65</td>\n",
       "      <td>18</td>\n",
       "      <td>0.0</td>\n",
       "      <td>84.3</td>\n",
       "      <td>12.5</td>\n",
       "      <td>88.699997</td>\n",
       "      <td>4.8</td>\n",
       "      <td>18.5</td>\n",
       "      <td>7.3</td>\n",
       "      <td>fire</td>\n",
       "    </tr>\n",
       "    <tr>\n",
       "      <th>68</th>\n",
       "      <td>8</td>\n",
       "      <td>8</td>\n",
       "      <td>2012</td>\n",
       "      <td>32</td>\n",
       "      <td>60</td>\n",
       "      <td>18</td>\n",
       "      <td>0.3</td>\n",
       "      <td>77.1</td>\n",
       "      <td>11.3</td>\n",
       "      <td>47.000000</td>\n",
       "      <td>2.2</td>\n",
       "      <td>14.1</td>\n",
       "      <td>2.6</td>\n",
       "      <td>not fire</td>\n",
       "    </tr>\n",
       "    <tr>\n",
       "      <th>76</th>\n",
       "      <td>16</td>\n",
       "      <td>8</td>\n",
       "      <td>2012</td>\n",
       "      <td>36</td>\n",
       "      <td>61</td>\n",
       "      <td>18</td>\n",
       "      <td>0.3</td>\n",
       "      <td>80.2</td>\n",
       "      <td>11.7</td>\n",
       "      <td>90.400002</td>\n",
       "      <td>2.8</td>\n",
       "      <td>17.6</td>\n",
       "      <td>4.2</td>\n",
       "      <td>fire</td>\n",
       "    </tr>\n",
       "    <tr>\n",
       "      <th>77</th>\n",
       "      <td>17</td>\n",
       "      <td>8</td>\n",
       "      <td>2012</td>\n",
       "      <td>37</td>\n",
       "      <td>52</td>\n",
       "      <td>18</td>\n",
       "      <td>0.0</td>\n",
       "      <td>89.3</td>\n",
       "      <td>16.0</td>\n",
       "      <td>100.699997</td>\n",
       "      <td>9.7</td>\n",
       "      <td>22.9</td>\n",
       "      <td>14.6</td>\n",
       "      <td>fire</td>\n",
       "    </tr>\n",
       "    <tr>\n",
       "      <th>78</th>\n",
       "      <td>18</td>\n",
       "      <td>8</td>\n",
       "      <td>2012</td>\n",
       "      <td>36</td>\n",
       "      <td>54</td>\n",
       "      <td>18</td>\n",
       "      <td>0.0</td>\n",
       "      <td>89.4</td>\n",
       "      <td>20.0</td>\n",
       "      <td>110.900002</td>\n",
       "      <td>9.7</td>\n",
       "      <td>27.5</td>\n",
       "      <td>16.1</td>\n",
       "      <td>fire</td>\n",
       "    </tr>\n",
       "    <tr>\n",
       "      <th>82</th>\n",
       "      <td>22</td>\n",
       "      <td>8</td>\n",
       "      <td>2012</td>\n",
       "      <td>36</td>\n",
       "      <td>55</td>\n",
       "      <td>18</td>\n",
       "      <td>0.0</td>\n",
       "      <td>89.1</td>\n",
       "      <td>33.5</td>\n",
       "      <td>151.300003</td>\n",
       "      <td>9.9</td>\n",
       "      <td>43.1</td>\n",
       "      <td>20.4</td>\n",
       "      <td>fire</td>\n",
       "    </tr>\n",
       "    <tr>\n",
       "      <th>86</th>\n",
       "      <td>26</td>\n",
       "      <td>8</td>\n",
       "      <td>2012</td>\n",
       "      <td>31</td>\n",
       "      <td>78</td>\n",
       "      <td>18</td>\n",
       "      <td>0.0</td>\n",
       "      <td>85.8</td>\n",
       "      <td>45.6</td>\n",
       "      <td>190.600006</td>\n",
       "      <td>4.7</td>\n",
       "      <td>57.1</td>\n",
       "      <td>13.7</td>\n",
       "      <td>fire</td>\n",
       "    </tr>\n",
       "    <tr>\n",
       "      <th>89</th>\n",
       "      <td>29</td>\n",
       "      <td>8</td>\n",
       "      <td>2012</td>\n",
       "      <td>35</td>\n",
       "      <td>48</td>\n",
       "      <td>18</td>\n",
       "      <td>0.0</td>\n",
       "      <td>90.1</td>\n",
       "      <td>54.2</td>\n",
       "      <td>220.399994</td>\n",
       "      <td>12.5</td>\n",
       "      <td>67.4</td>\n",
       "      <td>30.2</td>\n",
       "      <td>fire</td>\n",
       "    </tr>\n",
       "    <tr>\n",
       "      <th>111</th>\n",
       "      <td>20</td>\n",
       "      <td>9</td>\n",
       "      <td>2012</td>\n",
       "      <td>28</td>\n",
       "      <td>84</td>\n",
       "      <td>18</td>\n",
       "      <td>0.0</td>\n",
       "      <td>83.8</td>\n",
       "      <td>13.5</td>\n",
       "      <td>49.299999</td>\n",
       "      <td>4.5</td>\n",
       "      <td>16.0</td>\n",
       "      <td>6.3</td>\n",
       "      <td>fire</td>\n",
       "    </tr>\n",
       "    <tr>\n",
       "      <th>130</th>\n",
       "      <td>9</td>\n",
       "      <td>6</td>\n",
       "      <td>2012</td>\n",
       "      <td>27</td>\n",
       "      <td>59</td>\n",
       "      <td>18</td>\n",
       "      <td>0.1</td>\n",
       "      <td>78.1</td>\n",
       "      <td>8.5</td>\n",
       "      <td>14.700000</td>\n",
       "      <td>2.4</td>\n",
       "      <td>8.3</td>\n",
       "      <td>1.9</td>\n",
       "      <td>not fire</td>\n",
       "    </tr>\n",
       "    <tr>\n",
       "      <th>152</th>\n",
       "      <td>1</td>\n",
       "      <td>7</td>\n",
       "      <td>2012</td>\n",
       "      <td>28</td>\n",
       "      <td>58</td>\n",
       "      <td>18</td>\n",
       "      <td>2.2</td>\n",
       "      <td>63.7</td>\n",
       "      <td>3.2</td>\n",
       "      <td>8.500000</td>\n",
       "      <td>1.2</td>\n",
       "      <td>3.3</td>\n",
       "      <td>0.5</td>\n",
       "      <td>not fire</td>\n",
       "    </tr>\n",
       "    <tr>\n",
       "      <th>155</th>\n",
       "      <td>4</td>\n",
       "      <td>7</td>\n",
       "      <td>2012</td>\n",
       "      <td>34</td>\n",
       "      <td>58</td>\n",
       "      <td>18</td>\n",
       "      <td>0.0</td>\n",
       "      <td>88.0</td>\n",
       "      <td>13.6</td>\n",
       "      <td>36.799999</td>\n",
       "      <td>8.0</td>\n",
       "      <td>14.1</td>\n",
       "      <td>9.9</td>\n",
       "      <td>fire</td>\n",
       "    </tr>\n",
       "    <tr>\n",
       "      <th>156</th>\n",
       "      <td>5</td>\n",
       "      <td>7</td>\n",
       "      <td>2012</td>\n",
       "      <td>34</td>\n",
       "      <td>45</td>\n",
       "      <td>18</td>\n",
       "      <td>0.0</td>\n",
       "      <td>90.5</td>\n",
       "      <td>18.7</td>\n",
       "      <td>46.400002</td>\n",
       "      <td>11.3</td>\n",
       "      <td>18.7</td>\n",
       "      <td>15</td>\n",
       "      <td>fire</td>\n",
       "    </tr>\n",
       "    <tr>\n",
       "      <th>159</th>\n",
       "      <td>8</td>\n",
       "      <td>7</td>\n",
       "      <td>2012</td>\n",
       "      <td>35</td>\n",
       "      <td>47</td>\n",
       "      <td>18</td>\n",
       "      <td>6.0</td>\n",
       "      <td>80.8</td>\n",
       "      <td>9.8</td>\n",
       "      <td>9.700000</td>\n",
       "      <td>3.1</td>\n",
       "      <td>9.4</td>\n",
       "      <td>3</td>\n",
       "      <td>fire</td>\n",
       "    </tr>\n",
       "    <tr>\n",
       "      <th>165</th>\n",
       "      <td>14</td>\n",
       "      <td>7</td>\n",
       "      <td>2012</td>\n",
       "      <td>37</td>\n",
       "      <td>37</td>\n",
       "      <td>18</td>\n",
       "      <td>0.2</td>\n",
       "      <td>88.9</td>\n",
       "      <td>12.9</td>\n",
       "      <td>14.690000</td>\n",
       "      <td>12.5</td>\n",
       "      <td>10.4</td>\n",
       "      <td>0</td>\n",
       "      <td>NaN</td>\n",
       "    </tr>\n",
       "    <tr>\n",
       "      <th>172</th>\n",
       "      <td>21</td>\n",
       "      <td>7</td>\n",
       "      <td>2012</td>\n",
       "      <td>36</td>\n",
       "      <td>29</td>\n",
       "      <td>18</td>\n",
       "      <td>0.0</td>\n",
       "      <td>93.9</td>\n",
       "      <td>39.6</td>\n",
       "      <td>80.599998</td>\n",
       "      <td>18.5</td>\n",
       "      <td>39.5</td>\n",
       "      <td>30</td>\n",
       "      <td>fire</td>\n",
       "    </tr>\n",
       "    <tr>\n",
       "      <th>173</th>\n",
       "      <td>22</td>\n",
       "      <td>7</td>\n",
       "      <td>2012</td>\n",
       "      <td>32</td>\n",
       "      <td>48</td>\n",
       "      <td>18</td>\n",
       "      <td>0.0</td>\n",
       "      <td>91.5</td>\n",
       "      <td>44.2</td>\n",
       "      <td>90.099998</td>\n",
       "      <td>13.2</td>\n",
       "      <td>44.0</td>\n",
       "      <td>25.4</td>\n",
       "      <td>fire</td>\n",
       "    </tr>\n",
       "    <tr>\n",
       "      <th>178</th>\n",
       "      <td>27</td>\n",
       "      <td>7</td>\n",
       "      <td>2012</td>\n",
       "      <td>29</td>\n",
       "      <td>87</td>\n",
       "      <td>18</td>\n",
       "      <td>0.0</td>\n",
       "      <td>80.0</td>\n",
       "      <td>11.8</td>\n",
       "      <td>28.299999</td>\n",
       "      <td>2.8</td>\n",
       "      <td>11.8</td>\n",
       "      <td>3.2</td>\n",
       "      <td>not fire</td>\n",
       "    </tr>\n",
       "    <tr>\n",
       "      <th>207</th>\n",
       "      <td>25</td>\n",
       "      <td>8</td>\n",
       "      <td>2012</td>\n",
       "      <td>34</td>\n",
       "      <td>40</td>\n",
       "      <td>18</td>\n",
       "      <td>0.0</td>\n",
       "      <td>92.1</td>\n",
       "      <td>56.3</td>\n",
       "      <td>157.500000</td>\n",
       "      <td>14.3</td>\n",
       "      <td>59.5</td>\n",
       "      <td>31.1</td>\n",
       "      <td>fire</td>\n",
       "    </tr>\n",
       "    <tr>\n",
       "      <th>242</th>\n",
       "      <td>29</td>\n",
       "      <td>9</td>\n",
       "      <td>2012</td>\n",
       "      <td>24</td>\n",
       "      <td>54</td>\n",
       "      <td>18</td>\n",
       "      <td>0.1</td>\n",
       "      <td>79.7</td>\n",
       "      <td>4.3</td>\n",
       "      <td>15.200000</td>\n",
       "      <td>1.7</td>\n",
       "      <td>5.1</td>\n",
       "      <td>0.7</td>\n",
       "      <td>not fire</td>\n",
       "    </tr>\n",
       "  </tbody>\n",
       "</table>\n",
       "</div>"
      ],
      "text/plain": [
       "     day  month  year  Temperature  RH  Ws  Rain  FFMC   DMC          DC  \\\n",
       "0      1      6  2012           29  57  18   0.0  65.7   3.4    7.600000   \n",
       "22    23      6  2012           32  62  18   0.1  81.4   8.2   47.700001   \n",
       "25    26      6  2012           31  64  18   0.0  86.8  17.8   71.800003   \n",
       "26    27      6  2012           34  53  18   0.0  89.0  21.6   80.300003   \n",
       "36     7      7  2012           35  64  18   0.2  80.0   9.7   40.400002   \n",
       "51    22      7  2012           28  79  18   0.1  73.4  16.4   79.900002   \n",
       "54    25      7  2012           31  65  18   0.0  84.3  12.5   88.699997   \n",
       "68     8      8  2012           32  60  18   0.3  77.1  11.3   47.000000   \n",
       "76    16      8  2012           36  61  18   0.3  80.2  11.7   90.400002   \n",
       "77    17      8  2012           37  52  18   0.0  89.3  16.0  100.699997   \n",
       "78    18      8  2012           36  54  18   0.0  89.4  20.0  110.900002   \n",
       "82    22      8  2012           36  55  18   0.0  89.1  33.5  151.300003   \n",
       "86    26      8  2012           31  78  18   0.0  85.8  45.6  190.600006   \n",
       "89    29      8  2012           35  48  18   0.0  90.1  54.2  220.399994   \n",
       "111   20      9  2012           28  84  18   0.0  83.8  13.5   49.299999   \n",
       "130    9      6  2012           27  59  18   0.1  78.1   8.5   14.700000   \n",
       "152    1      7  2012           28  58  18   2.2  63.7   3.2    8.500000   \n",
       "155    4      7  2012           34  58  18   0.0  88.0  13.6   36.799999   \n",
       "156    5      7  2012           34  45  18   0.0  90.5  18.7   46.400002   \n",
       "159    8      7  2012           35  47  18   6.0  80.8   9.8    9.700000   \n",
       "165   14      7  2012           37  37  18   0.2  88.9  12.9   14.690000   \n",
       "172   21      7  2012           36  29  18   0.0  93.9  39.6   80.599998   \n",
       "173   22      7  2012           32  48  18   0.0  91.5  44.2   90.099998   \n",
       "178   27      7  2012           29  87  18   0.0  80.0  11.8   28.299999   \n",
       "207   25      8  2012           34  40  18   0.0  92.1  56.3  157.500000   \n",
       "242   29      9  2012           24  54  18   0.1  79.7   4.3   15.200000   \n",
       "\n",
       "      ISI   BUI   FWI      Classes  \n",
       "0     1.3   3.4   0.5  not fire     \n",
       "22    3.3  11.5   3.8      fire     \n",
       "25    6.7  21.6  10.6      fire     \n",
       "26    9.2  25.8    15      fire     \n",
       "36    2.8  12.1   3.2  not fire     \n",
       "51    1.8  21.7   2.8  not fire     \n",
       "54    4.8  18.5   7.3      fire     \n",
       "68    2.2  14.1   2.6  not fire     \n",
       "76    2.8  17.6   4.2      fire     \n",
       "77    9.7  22.9  14.6      fire     \n",
       "78    9.7  27.5  16.1      fire     \n",
       "82    9.9  43.1  20.4      fire     \n",
       "86    4.7  57.1  13.7        fire   \n",
       "89   12.5  67.4  30.2      fire     \n",
       "111   4.5  16.0   6.3         fire  \n",
       "130   2.4   8.3   1.9  not fire     \n",
       "152   1.2   3.3   0.5  not fire     \n",
       "155   8.0  14.1   9.9      fire     \n",
       "156  11.3  18.7    15      fire     \n",
       "159   3.1   9.4     3      fire     \n",
       "165  12.5  10.4     0          NaN  \n",
       "172  18.5  39.5    30      fire     \n",
       "173  13.2  44.0  25.4      fire     \n",
       "178   2.8  11.8   3.2  not fire     \n",
       "207  14.3  59.5  31.1      fire     \n",
       "242   1.7   5.1   0.7  not fire     "
      ]
     },
     "execution_count": 16,
     "metadata": {},
     "output_type": "execute_result"
    }
   ],
   "source": [
    "df[df['Ws'] == 18]## From below, it seems like fire can be replaced....so we will replace with \"fire\""
   ]
  },
  {
   "cell_type": "code",
   "execution_count": 17,
   "id": "7baad8eb",
   "metadata": {},
   "outputs": [
    {
     "name": "stderr",
     "output_type": "stream",
     "text": [
      "C:\\Users\\ukrum\\AppData\\Local\\Temp\\ipykernel_10760\\3254906332.py:3: SettingWithCopyWarning: \n",
      "A value is trying to be set on a copy of a slice from a DataFrame\n",
      "\n",
      "See the caveats in the documentation: https://pandas.pydata.org/pandas-docs/stable/user_guide/indexing.html#returning-a-view-versus-a-copy\n",
      "  df['Classes'].iloc[165] = 'fire'\n"
     ]
    }
   ],
   "source": [
    "# replacing 'NAN' value for \"classes\" at index 165\n",
    "\n",
    "df['Classes'].iloc[165] = 'fire'"
   ]
  },
  {
   "cell_type": "code",
   "execution_count": 18,
   "id": "6febae85",
   "metadata": {},
   "outputs": [
    {
     "data": {
      "text/plain": [
       "array(['not fire   ', 'fire   ', 'fire', 'fire ', 'not fire', 'not fire ',\n",
       "       'not fire     ', 'not fire    '], dtype=object)"
      ]
     },
     "execution_count": 18,
     "metadata": {},
     "output_type": "execute_result"
    }
   ],
   "source": [
    "df['Classes'].unique()"
   ]
  },
  {
   "cell_type": "code",
   "execution_count": 19,
   "id": "5445eadb",
   "metadata": {},
   "outputs": [],
   "source": [
    "# removing whitespaces from Classes\n",
    "\n",
    "df['Classes'] = df['Classes'].str.strip()"
   ]
  },
  {
   "cell_type": "code",
   "execution_count": 20,
   "id": "07545da4",
   "metadata": {},
   "outputs": [
    {
     "data": {
      "text/plain": [
       "array(['not fire', 'fire'], dtype=object)"
      ]
     },
     "execution_count": 20,
     "metadata": {},
     "output_type": "execute_result"
    }
   ],
   "source": [
    "df['Classes'].unique()"
   ]
  },
  {
   "cell_type": "code",
   "execution_count": 21,
   "id": "9479552d",
   "metadata": {},
   "outputs": [],
   "source": [
    "df = pd.get_dummies(data = df, columns = ['Classes'], drop_first = True )"
   ]
  },
  {
   "cell_type": "code",
   "execution_count": 22,
   "id": "d2f6c350",
   "metadata": {},
   "outputs": [
    {
     "data": {
      "text/html": [
       "<div>\n",
       "<style scoped>\n",
       "    .dataframe tbody tr th:only-of-type {\n",
       "        vertical-align: middle;\n",
       "    }\n",
       "\n",
       "    .dataframe tbody tr th {\n",
       "        vertical-align: top;\n",
       "    }\n",
       "\n",
       "    .dataframe thead th {\n",
       "        text-align: right;\n",
       "    }\n",
       "</style>\n",
       "<table border=\"1\" class=\"dataframe\">\n",
       "  <thead>\n",
       "    <tr style=\"text-align: right;\">\n",
       "      <th></th>\n",
       "      <th>day</th>\n",
       "      <th>month</th>\n",
       "      <th>year</th>\n",
       "      <th>Temperature</th>\n",
       "      <th>RH</th>\n",
       "      <th>Ws</th>\n",
       "      <th>Rain</th>\n",
       "      <th>FFMC</th>\n",
       "      <th>DMC</th>\n",
       "      <th>DC</th>\n",
       "      <th>ISI</th>\n",
       "      <th>BUI</th>\n",
       "      <th>FWI</th>\n",
       "      <th>Classes_not fire</th>\n",
       "    </tr>\n",
       "  </thead>\n",
       "  <tbody>\n",
       "    <tr>\n",
       "      <th>0</th>\n",
       "      <td>1</td>\n",
       "      <td>6</td>\n",
       "      <td>2012</td>\n",
       "      <td>29</td>\n",
       "      <td>57</td>\n",
       "      <td>18</td>\n",
       "      <td>0.0</td>\n",
       "      <td>65.7</td>\n",
       "      <td>3.4</td>\n",
       "      <td>7.6</td>\n",
       "      <td>1.3</td>\n",
       "      <td>3.4</td>\n",
       "      <td>0.5</td>\n",
       "      <td>1</td>\n",
       "    </tr>\n",
       "    <tr>\n",
       "      <th>1</th>\n",
       "      <td>2</td>\n",
       "      <td>6</td>\n",
       "      <td>2012</td>\n",
       "      <td>29</td>\n",
       "      <td>61</td>\n",
       "      <td>13</td>\n",
       "      <td>1.3</td>\n",
       "      <td>64.4</td>\n",
       "      <td>4.1</td>\n",
       "      <td>7.6</td>\n",
       "      <td>1.0</td>\n",
       "      <td>3.9</td>\n",
       "      <td>0.4</td>\n",
       "      <td>1</td>\n",
       "    </tr>\n",
       "    <tr>\n",
       "      <th>2</th>\n",
       "      <td>3</td>\n",
       "      <td>6</td>\n",
       "      <td>2012</td>\n",
       "      <td>26</td>\n",
       "      <td>82</td>\n",
       "      <td>22</td>\n",
       "      <td>13.1</td>\n",
       "      <td>47.1</td>\n",
       "      <td>2.5</td>\n",
       "      <td>7.1</td>\n",
       "      <td>0.3</td>\n",
       "      <td>2.7</td>\n",
       "      <td>0.1</td>\n",
       "      <td>1</td>\n",
       "    </tr>\n",
       "    <tr>\n",
       "      <th>3</th>\n",
       "      <td>4</td>\n",
       "      <td>6</td>\n",
       "      <td>2012</td>\n",
       "      <td>25</td>\n",
       "      <td>89</td>\n",
       "      <td>13</td>\n",
       "      <td>2.5</td>\n",
       "      <td>28.6</td>\n",
       "      <td>1.3</td>\n",
       "      <td>6.9</td>\n",
       "      <td>0.0</td>\n",
       "      <td>1.7</td>\n",
       "      <td>0</td>\n",
       "      <td>1</td>\n",
       "    </tr>\n",
       "    <tr>\n",
       "      <th>4</th>\n",
       "      <td>5</td>\n",
       "      <td>6</td>\n",
       "      <td>2012</td>\n",
       "      <td>27</td>\n",
       "      <td>77</td>\n",
       "      <td>16</td>\n",
       "      <td>0.0</td>\n",
       "      <td>64.8</td>\n",
       "      <td>3.0</td>\n",
       "      <td>14.2</td>\n",
       "      <td>1.2</td>\n",
       "      <td>3.9</td>\n",
       "      <td>0.5</td>\n",
       "      <td>1</td>\n",
       "    </tr>\n",
       "    <tr>\n",
       "      <th>...</th>\n",
       "      <td>...</td>\n",
       "      <td>...</td>\n",
       "      <td>...</td>\n",
       "      <td>...</td>\n",
       "      <td>...</td>\n",
       "      <td>...</td>\n",
       "      <td>...</td>\n",
       "      <td>...</td>\n",
       "      <td>...</td>\n",
       "      <td>...</td>\n",
       "      <td>...</td>\n",
       "      <td>...</td>\n",
       "      <td>...</td>\n",
       "      <td>...</td>\n",
       "    </tr>\n",
       "    <tr>\n",
       "      <th>239</th>\n",
       "      <td>26</td>\n",
       "      <td>9</td>\n",
       "      <td>2012</td>\n",
       "      <td>30</td>\n",
       "      <td>65</td>\n",
       "      <td>14</td>\n",
       "      <td>0.0</td>\n",
       "      <td>85.4</td>\n",
       "      <td>16.0</td>\n",
       "      <td>44.5</td>\n",
       "      <td>4.5</td>\n",
       "      <td>16.9</td>\n",
       "      <td>6.5</td>\n",
       "      <td>0</td>\n",
       "    </tr>\n",
       "    <tr>\n",
       "      <th>240</th>\n",
       "      <td>27</td>\n",
       "      <td>9</td>\n",
       "      <td>2012</td>\n",
       "      <td>28</td>\n",
       "      <td>87</td>\n",
       "      <td>15</td>\n",
       "      <td>4.4</td>\n",
       "      <td>41.1</td>\n",
       "      <td>6.5</td>\n",
       "      <td>8.0</td>\n",
       "      <td>0.1</td>\n",
       "      <td>6.2</td>\n",
       "      <td>0</td>\n",
       "      <td>1</td>\n",
       "    </tr>\n",
       "    <tr>\n",
       "      <th>241</th>\n",
       "      <td>28</td>\n",
       "      <td>9</td>\n",
       "      <td>2012</td>\n",
       "      <td>27</td>\n",
       "      <td>87</td>\n",
       "      <td>29</td>\n",
       "      <td>0.5</td>\n",
       "      <td>45.9</td>\n",
       "      <td>3.5</td>\n",
       "      <td>7.9</td>\n",
       "      <td>0.4</td>\n",
       "      <td>3.4</td>\n",
       "      <td>0.2</td>\n",
       "      <td>1</td>\n",
       "    </tr>\n",
       "    <tr>\n",
       "      <th>242</th>\n",
       "      <td>29</td>\n",
       "      <td>9</td>\n",
       "      <td>2012</td>\n",
       "      <td>24</td>\n",
       "      <td>54</td>\n",
       "      <td>18</td>\n",
       "      <td>0.1</td>\n",
       "      <td>79.7</td>\n",
       "      <td>4.3</td>\n",
       "      <td>15.2</td>\n",
       "      <td>1.7</td>\n",
       "      <td>5.1</td>\n",
       "      <td>0.7</td>\n",
       "      <td>1</td>\n",
       "    </tr>\n",
       "    <tr>\n",
       "      <th>243</th>\n",
       "      <td>30</td>\n",
       "      <td>9</td>\n",
       "      <td>2012</td>\n",
       "      <td>24</td>\n",
       "      <td>64</td>\n",
       "      <td>15</td>\n",
       "      <td>0.2</td>\n",
       "      <td>67.3</td>\n",
       "      <td>3.8</td>\n",
       "      <td>16.5</td>\n",
       "      <td>1.2</td>\n",
       "      <td>4.8</td>\n",
       "      <td>0.5</td>\n",
       "      <td>1</td>\n",
       "    </tr>\n",
       "  </tbody>\n",
       "</table>\n",
       "<p>244 rows × 14 columns</p>\n",
       "</div>"
      ],
      "text/plain": [
       "     day  month  year  Temperature  RH  Ws  Rain  FFMC   DMC    DC  ISI   BUI  \\\n",
       "0      1      6  2012           29  57  18   0.0  65.7   3.4   7.6  1.3   3.4   \n",
       "1      2      6  2012           29  61  13   1.3  64.4   4.1   7.6  1.0   3.9   \n",
       "2      3      6  2012           26  82  22  13.1  47.1   2.5   7.1  0.3   2.7   \n",
       "3      4      6  2012           25  89  13   2.5  28.6   1.3   6.9  0.0   1.7   \n",
       "4      5      6  2012           27  77  16   0.0  64.8   3.0  14.2  1.2   3.9   \n",
       "..   ...    ...   ...          ...  ..  ..   ...   ...   ...   ...  ...   ...   \n",
       "239   26      9  2012           30  65  14   0.0  85.4  16.0  44.5  4.5  16.9   \n",
       "240   27      9  2012           28  87  15   4.4  41.1   6.5   8.0  0.1   6.2   \n",
       "241   28      9  2012           27  87  29   0.5  45.9   3.5   7.9  0.4   3.4   \n",
       "242   29      9  2012           24  54  18   0.1  79.7   4.3  15.2  1.7   5.1   \n",
       "243   30      9  2012           24  64  15   0.2  67.3   3.8  16.5  1.2   4.8   \n",
       "\n",
       "     FWI  Classes_not fire  \n",
       "0    0.5                 1  \n",
       "1    0.4                 1  \n",
       "2    0.1                 1  \n",
       "3      0                 1  \n",
       "4    0.5                 1  \n",
       "..   ...               ...  \n",
       "239  6.5                 0  \n",
       "240    0                 1  \n",
       "241  0.2                 1  \n",
       "242  0.7                 1  \n",
       "243  0.5                 1  \n",
       "\n",
       "[244 rows x 14 columns]"
      ]
     },
     "execution_count": 22,
     "metadata": {},
     "output_type": "execute_result"
    }
   ],
   "source": [
    "df"
   ]
  },
  {
   "cell_type": "markdown",
   "id": "d0cee06f",
   "metadata": {},
   "source": [
    "# Define features and Label"
   ]
  },
  {
   "cell_type": "code",
   "execution_count": 23,
   "id": "baa7bca9",
   "metadata": {},
   "outputs": [],
   "source": [
    "X = df.drop('Temperature', axis = 1)"
   ]
  },
  {
   "cell_type": "code",
   "execution_count": 24,
   "id": "e22f9067",
   "metadata": {},
   "outputs": [],
   "source": [
    "y = df[\"Temperature\"]"
   ]
  },
  {
   "cell_type": "code",
   "execution_count": 25,
   "id": "85a70247",
   "metadata": {},
   "outputs": [],
   "source": [
    "from sklearn.model_selection import train_test_split"
   ]
  },
  {
   "cell_type": "code",
   "execution_count": 26,
   "id": "5e785551",
   "metadata": {},
   "outputs": [],
   "source": [
    "X_train, X_test, y_train, y_test = train_test_split(X, y, test_size=0.3, random_state=101)"
   ]
  },
  {
   "cell_type": "code",
   "execution_count": 27,
   "id": "9305afb8",
   "metadata": {},
   "outputs": [
    {
     "data": {
      "text/html": [
       "<div>\n",
       "<style scoped>\n",
       "    .dataframe tbody tr th:only-of-type {\n",
       "        vertical-align: middle;\n",
       "    }\n",
       "\n",
       "    .dataframe tbody tr th {\n",
       "        vertical-align: top;\n",
       "    }\n",
       "\n",
       "    .dataframe thead th {\n",
       "        text-align: right;\n",
       "    }\n",
       "</style>\n",
       "<table border=\"1\" class=\"dataframe\">\n",
       "  <thead>\n",
       "    <tr style=\"text-align: right;\">\n",
       "      <th></th>\n",
       "      <th>day</th>\n",
       "      <th>month</th>\n",
       "      <th>year</th>\n",
       "      <th>RH</th>\n",
       "      <th>Ws</th>\n",
       "      <th>Rain</th>\n",
       "      <th>FFMC</th>\n",
       "      <th>DMC</th>\n",
       "      <th>DC</th>\n",
       "      <th>ISI</th>\n",
       "      <th>BUI</th>\n",
       "      <th>FWI</th>\n",
       "      <th>Classes_not fire</th>\n",
       "    </tr>\n",
       "  </thead>\n",
       "  <tbody>\n",
       "    <tr>\n",
       "      <th>203</th>\n",
       "      <td>21</td>\n",
       "      <td>8</td>\n",
       "      <td>2012</td>\n",
       "      <td>71</td>\n",
       "      <td>15</td>\n",
       "      <td>0.0</td>\n",
       "      <td>86.0</td>\n",
       "      <td>36.9</td>\n",
       "      <td>117.099998</td>\n",
       "      <td>5.1</td>\n",
       "      <td>41.3</td>\n",
       "      <td>12.2</td>\n",
       "      <td>0</td>\n",
       "    </tr>\n",
       "    <tr>\n",
       "      <th>171</th>\n",
       "      <td>20</td>\n",
       "      <td>7</td>\n",
       "      <td>2012</td>\n",
       "      <td>50</td>\n",
       "      <td>16</td>\n",
       "      <td>0.0</td>\n",
       "      <td>89.9</td>\n",
       "      <td>32.7</td>\n",
       "      <td>71.000000</td>\n",
       "      <td>9.5</td>\n",
       "      <td>32.6</td>\n",
       "      <td>17.3</td>\n",
       "      <td>0</td>\n",
       "    </tr>\n",
       "    <tr>\n",
       "      <th>185</th>\n",
       "      <td>3</td>\n",
       "      <td>8</td>\n",
       "      <td>2012</td>\n",
       "      <td>33</td>\n",
       "      <td>17</td>\n",
       "      <td>0.0</td>\n",
       "      <td>93.7</td>\n",
       "      <td>17.1</td>\n",
       "      <td>32.099998</td>\n",
       "      <td>17.2</td>\n",
       "      <td>16.9</td>\n",
       "      <td>19.5</td>\n",
       "      <td>0</td>\n",
       "    </tr>\n",
       "    <tr>\n",
       "      <th>240</th>\n",
       "      <td>27</td>\n",
       "      <td>9</td>\n",
       "      <td>2012</td>\n",
       "      <td>87</td>\n",
       "      <td>15</td>\n",
       "      <td>4.4</td>\n",
       "      <td>41.1</td>\n",
       "      <td>6.5</td>\n",
       "      <td>8.000000</td>\n",
       "      <td>0.1</td>\n",
       "      <td>6.2</td>\n",
       "      <td>0</td>\n",
       "      <td>1</td>\n",
       "    </tr>\n",
       "    <tr>\n",
       "      <th>16</th>\n",
       "      <td>17</td>\n",
       "      <td>6</td>\n",
       "      <td>2012</td>\n",
       "      <td>89</td>\n",
       "      <td>16</td>\n",
       "      <td>0.6</td>\n",
       "      <td>37.3</td>\n",
       "      <td>1.1</td>\n",
       "      <td>7.800000</td>\n",
       "      <td>0.0</td>\n",
       "      <td>1.6</td>\n",
       "      <td>0</td>\n",
       "      <td>1</td>\n",
       "    </tr>\n",
       "  </tbody>\n",
       "</table>\n",
       "</div>"
      ],
      "text/plain": [
       "     day  month  year  RH  Ws  Rain  FFMC   DMC          DC   ISI   BUI   FWI  \\\n",
       "203   21      8  2012  71  15   0.0  86.0  36.9  117.099998   5.1  41.3  12.2   \n",
       "171   20      7  2012  50  16   0.0  89.9  32.7   71.000000   9.5  32.6  17.3   \n",
       "185    3      8  2012  33  17   0.0  93.7  17.1   32.099998  17.2  16.9  19.5   \n",
       "240   27      9  2012  87  15   4.4  41.1   6.5    8.000000   0.1   6.2     0   \n",
       "16    17      6  2012  89  16   0.6  37.3   1.1    7.800000   0.0   1.6     0   \n",
       "\n",
       "     Classes_not fire  \n",
       "203                 0  \n",
       "171                 0  \n",
       "185                 0  \n",
       "240                 1  \n",
       "16                  1  "
      ]
     },
     "execution_count": 27,
     "metadata": {},
     "output_type": "execute_result"
    }
   ],
   "source": [
    "X_train.head()"
   ]
  },
  {
   "cell_type": "code",
   "execution_count": 28,
   "id": "94719f97",
   "metadata": {},
   "outputs": [
    {
     "data": {
      "text/plain": [
       "(170, 13)"
      ]
     },
     "execution_count": 28,
     "metadata": {},
     "output_type": "execute_result"
    }
   ],
   "source": [
    "X_train.shape"
   ]
  },
  {
   "cell_type": "code",
   "execution_count": 29,
   "id": "1fc6c657",
   "metadata": {},
   "outputs": [
    {
     "data": {
      "text/plain": [
       "(74, 13)"
      ]
     },
     "execution_count": 29,
     "metadata": {},
     "output_type": "execute_result"
    }
   ],
   "source": [
    "X_test.shape"
   ]
  },
  {
   "cell_type": "code",
   "execution_count": 30,
   "id": "d1246499",
   "metadata": {},
   "outputs": [
    {
     "data": {
      "text/plain": [
       "(170,)"
      ]
     },
     "execution_count": 30,
     "metadata": {},
     "output_type": "execute_result"
    }
   ],
   "source": [
    "y_train.shape"
   ]
  },
  {
   "cell_type": "code",
   "execution_count": 31,
   "id": "cb35a38b",
   "metadata": {},
   "outputs": [
    {
     "data": {
      "text/plain": [
       "(74,)"
      ]
     },
     "execution_count": 31,
     "metadata": {},
     "output_type": "execute_result"
    }
   ],
   "source": [
    "y_test.shape"
   ]
  },
  {
   "cell_type": "code",
   "execution_count": 32,
   "id": "267edafa",
   "metadata": {},
   "outputs": [],
   "source": [
    "# Standard Scaling the data\n",
    "\n",
    "from sklearn.preprocessing import StandardScaler"
   ]
  },
  {
   "cell_type": "code",
   "execution_count": 33,
   "id": "7e4c21bc",
   "metadata": {},
   "outputs": [],
   "source": [
    "scaler = StandardScaler()"
   ]
  },
  {
   "cell_type": "code",
   "execution_count": 34,
   "id": "e48ad7d8",
   "metadata": {},
   "outputs": [],
   "source": [
    "X_train_scaled = scaler.fit_transform(X_train)"
   ]
  },
  {
   "cell_type": "code",
   "execution_count": 35,
   "id": "aa68f41d",
   "metadata": {},
   "outputs": [],
   "source": [
    "X_test_scaled = scaler.transform(X_test)"
   ]
  },
  {
   "cell_type": "markdown",
   "id": "3b8eaa8b",
   "metadata": {},
   "source": [
    "## Training Models:\n",
    "1. Linear Regression\n",
    "2. Ridge Regression\n",
    "3. Lasso Regression\n",
    "4. ElasticNet Regression"
   ]
  },
  {
   "cell_type": "markdown",
   "id": "8996e372",
   "metadata": {},
   "source": [
    "# 1. Linear Regression"
   ]
  },
  {
   "cell_type": "code",
   "execution_count": 36,
   "id": "b0aeff51",
   "metadata": {},
   "outputs": [],
   "source": [
    "from sklearn.linear_model import LinearRegression"
   ]
  },
  {
   "cell_type": "code",
   "execution_count": 37,
   "id": "09aee1b0",
   "metadata": {},
   "outputs": [],
   "source": [
    "model_reg = LinearRegression()"
   ]
  },
  {
   "cell_type": "code",
   "execution_count": 38,
   "id": "3c1c6fa4",
   "metadata": {},
   "outputs": [
    {
     "data": {
      "text/plain": [
       "LinearRegression()"
      ]
     },
     "execution_count": 38,
     "metadata": {},
     "output_type": "execute_result"
    }
   ],
   "source": [
    "model_reg.fit(X_train_scaled, y_train)"
   ]
  },
  {
   "cell_type": "code",
   "execution_count": 39,
   "id": "90f4b2a7",
   "metadata": {},
   "outputs": [
    {
     "data": {
      "text/plain": [
       "array([-4.26182181e-01, -3.49020942e-01,  1.22124533e-15, -1.37015374e+00,\n",
       "       -6.75601108e-01,  4.42229675e-02,  8.62084945e-01,  2.07605821e+00,\n",
       "        1.42830803e+00,  5.04154694e-01, -2.26218124e+00, -5.83455962e-01,\n",
       "       -5.54754887e-02])"
      ]
     },
     "execution_count": 39,
     "metadata": {},
     "output_type": "execute_result"
    }
   ],
   "source": [
    "model_reg.coef_"
   ]
  },
  {
   "cell_type": "code",
   "execution_count": 40,
   "id": "0743b624",
   "metadata": {},
   "outputs": [
    {
     "data": {
      "text/plain": [
       "31.99411764705882"
      ]
     },
     "execution_count": 40,
     "metadata": {},
     "output_type": "execute_result"
    }
   ],
   "source": [
    "model_reg.intercept_"
   ]
  },
  {
   "cell_type": "code",
   "execution_count": 41,
   "id": "f0733679",
   "metadata": {},
   "outputs": [],
   "source": [
    "reg_pred = model_reg.predict(X_test_scaled)"
   ]
  },
  {
   "cell_type": "markdown",
   "id": "f15aa1d9",
   "metadata": {},
   "source": [
    "''' Lets check for 3 assumptions for LinearRegression\n",
    "1. Scatter plot between y_test and model predictions should be approximately linear\n",
    "2. displot of residual should be approximately normal distribution\n",
    "3. Scatter plot between residual and model prediction should not show any pattern i.e. it should show random distribution\n",
    "\n",
    "'''"
   ]
  },
  {
   "cell_type": "code",
   "execution_count": 42,
   "id": "d561f1a2",
   "metadata": {},
   "outputs": [
    {
     "data": {
      "text/plain": [
       "Text(0, 0.5, 'Regression Predictions')"
      ]
     },
     "execution_count": 42,
     "metadata": {},
     "output_type": "execute_result"
    },
    {
     "data": {
      "image/png": "[encoded data removed]",
      "text/plain": [
       "<Figure size 432x288 with 1 Axes>"
      ]
     },
     "metadata": {
      "needs_background": "light"
     },
     "output_type": "display_data"
    }
   ],
   "source": [
    "plt.scatter(y_test, reg_pred)\n",
    "\n",
    "plt.xlabel('Y_test')\n",
    "plt.ylabel('Regression Predictions')"
   ]
  },
  {
   "cell_type": "code",
   "execution_count": 43,
   "id": "d66de03c",
   "metadata": {},
   "outputs": [],
   "source": [
    "residual_reg = y_test - reg_pred"
   ]
  },
  {
   "cell_type": "code",
   "execution_count": 44,
   "id": "87aafd5c",
   "metadata": {},
   "outputs": [
    {
     "data": {
      "text/plain": [
       "<seaborn.axisgrid.FacetGrid at 0x2005202ac10>"
      ]
     },
     "execution_count": 44,
     "metadata": {},
     "output_type": "execute_result"
    },
    {
     "data": {
      "image/png": "[encoded data removed]",
      "text/plain": [
       "<Figure size 360x360 with 1 Axes>"
      ]
     },
     "metadata": {
      "needs_background": "light"
     },
     "output_type": "display_data"
    }
   ],
   "source": [
    "sns.displot(residual_reg, kind = 'kde')"
   ]
  },
  {
   "cell_type": "code",
   "execution_count": 45,
   "id": "8c8fdb6a",
   "metadata": {},
   "outputs": [
    {
     "data": {
      "text/plain": [
       "<matplotlib.collections.PathCollection at 0x200523ce730>"
      ]
     },
     "execution_count": 45,
     "metadata": {},
     "output_type": "execute_result"
    },
    {
     "data": {
      "image/png": "[encoded data removed]",
      "text/plain": [
       "<Figure size 432x288 with 1 Axes>"
      ]
     },
     "metadata": {
      "needs_background": "light"
     },
     "output_type": "display_data"
    }
   ],
   "source": [
    "plt.scatter(residual_reg, reg_pred)"
   ]
  },
  {
   "cell_type": "code",
   "execution_count": 46,
   "id": "d89c97b9",
   "metadata": {},
   "outputs": [],
   "source": [
    "# We are good with the 3 assumptions"
   ]
  },
  {
   "cell_type": "code",
   "execution_count": 47,
   "id": "e1fd7290",
   "metadata": {},
   "outputs": [],
   "source": [
    "from sklearn.metrics import mean_squared_error, mean_absolute_error"
   ]
  },
  {
   "cell_type": "code",
   "execution_count": 48,
   "id": "2159a252",
   "metadata": {},
   "outputs": [],
   "source": [
    "mae_reg = mean_absolute_error(y_test, reg_pred)"
   ]
  },
  {
   "cell_type": "code",
   "execution_count": 49,
   "id": "072c528c",
   "metadata": {},
   "outputs": [],
   "source": [
    "mse_reg = mean_squared_error(y_test, reg_pred)"
   ]
  },
  {
   "cell_type": "code",
   "execution_count": 50,
   "id": "f99a7fdb",
   "metadata": {},
   "outputs": [],
   "source": [
    "rmse_reg = np.sqrt(mse_reg)"
   ]
  },
  {
   "cell_type": "code",
   "execution_count": 51,
   "id": "8a275d2c",
   "metadata": {},
   "outputs": [
    {
     "name": "stdout",
     "output_type": "stream",
     "text": [
      "2.0688884896792095 6.625685479334473 2.57404069107978\n"
     ]
    }
   ],
   "source": [
    "print(mae_reg, mse_reg, rmse_reg)"
   ]
  },
  {
   "cell_type": "code",
   "execution_count": 52,
   "id": "253d429f",
   "metadata": {},
   "outputs": [],
   "source": [
    "# lets check performance matrics : r-squared and adjusted_r_squared"
   ]
  },
  {
   "cell_type": "code",
   "execution_count": 53,
   "id": "73644e28",
   "metadata": {},
   "outputs": [],
   "source": [
    "from sklearn.metrics import r2_score"
   ]
  },
  {
   "cell_type": "code",
   "execution_count": 54,
   "id": "30e306d1",
   "metadata": {},
   "outputs": [],
   "source": [
    "r_squared_reg = r2_score(y_test, reg_pred)"
   ]
  },
  {
   "cell_type": "code",
   "execution_count": 55,
   "id": "e953a3e6",
   "metadata": {},
   "outputs": [],
   "source": [
    "adjusted_r_squared_reg = 1 - ((1- r_squared_reg)* (len(y_test)-1))/(len(y_test) - X_test.shape[1]-1)"
   ]
  },
  {
   "cell_type": "code",
   "execution_count": 56,
   "id": "1253f195",
   "metadata": {},
   "outputs": [
    {
     "data": {
      "text/plain": [
       "(0.5135970709740113, 0.4082097696850471)"
      ]
     },
     "execution_count": 56,
     "metadata": {},
     "output_type": "execute_result"
    }
   ],
   "source": [
    "r_squared_reg , adjusted_r_squared_reg\n"
   ]
  },
  {
   "cell_type": "markdown",
   "id": "4e5bb64e",
   "metadata": {},
   "source": [
    "# 2. Ridge Regression"
   ]
  },
  {
   "cell_type": "code",
   "execution_count": 57,
   "id": "7d34cbf4",
   "metadata": {},
   "outputs": [],
   "source": [
    "from sklearn.linear_model import Ridge"
   ]
  },
  {
   "cell_type": "code",
   "execution_count": 58,
   "id": "98699b37",
   "metadata": {},
   "outputs": [],
   "source": [
    "model_ridge = Ridge()"
   ]
  },
  {
   "cell_type": "code",
   "execution_count": 59,
   "id": "bec8a950",
   "metadata": {},
   "outputs": [
    {
     "data": {
      "text/plain": [
       "Ridge()"
      ]
     },
     "execution_count": 59,
     "metadata": {},
     "output_type": "execute_result"
    }
   ],
   "source": [
    "model_ridge.fit(X_train_scaled, y_train)"
   ]
  },
  {
   "cell_type": "code",
   "execution_count": 60,
   "id": "fc32f1dc",
   "metadata": {},
   "outputs": [
    {
     "data": {
      "text/plain": [
       "array([-0.41404835, -0.33542184,  0.        , -1.36921681, -0.66757668,\n",
       "        0.02121157,  0.83708199,  0.51379062,  0.52917992,  0.47401725,\n",
       "        0.09464251, -0.52151868, -0.06495379])"
      ]
     },
     "execution_count": 60,
     "metadata": {},
     "output_type": "execute_result"
    }
   ],
   "source": [
    "model_ridge.coef_"
   ]
  },
  {
   "cell_type": "code",
   "execution_count": 61,
   "id": "fad3a9ec",
   "metadata": {},
   "outputs": [
    {
     "data": {
      "text/plain": [
       "31.99411764705882"
      ]
     },
     "execution_count": 61,
     "metadata": {},
     "output_type": "execute_result"
    }
   ],
   "source": [
    "model_ridge.intercept_"
   ]
  },
  {
   "cell_type": "code",
   "execution_count": 62,
   "id": "1a3b2fb8",
   "metadata": {},
   "outputs": [],
   "source": [
    "ridge_pred = model_ridge.predict(X_test_scaled)"
   ]
  },
  {
   "cell_type": "code",
   "execution_count": 63,
   "id": "9615a9c7",
   "metadata": {},
   "outputs": [
    {
     "data": {
      "text/plain": [
       "array([33.15906847, 32.75832261, 34.23422741, 29.72855862, 32.2509985 ,\n",
       "       32.90779869, 34.63178725, 36.60507847, 36.62237067, 31.37041512,\n",
       "       24.76965105, 31.03187897, 28.47479267, 39.03322613, 32.76947627,\n",
       "       28.42877931, 32.80477065, 37.15453451, 32.40246745, 31.52512871,\n",
       "       33.221859  , 31.51401688, 33.35207062, 35.18207857, 31.20950126,\n",
       "       33.36740153, 32.93326466, 30.29924023, 34.72612356, 32.2174675 ,\n",
       "       33.55655617, 34.21277539, 26.72021762, 34.62999925, 32.98825094,\n",
       "       26.71070831, 28.34240751, 35.29568735, 33.25850038, 31.85159144,\n",
       "       29.2662746 , 33.85525302, 30.866551  , 33.23066106, 32.96698446,\n",
       "       29.80948832, 33.39125103, 30.26410789, 35.8854653 , 32.06532919,\n",
       "       30.22305006, 32.03500762, 31.17191693, 32.48338212, 32.50016403,\n",
       "       31.41951219, 30.49948889, 30.39054234, 32.89650223, 35.16047118,\n",
       "       29.83446852, 27.00236369, 29.52041337, 30.85444305, 31.60421153,\n",
       "       26.76144699, 34.12906955, 33.00127315, 22.25733771, 31.51760741,\n",
       "       31.9194171 , 32.37280119, 32.6218425 , 31.98819192])"
      ]
     },
     "execution_count": 63,
     "metadata": {},
     "output_type": "execute_result"
    }
   ],
   "source": [
    "ridge_pred"
   ]
  },
  {
   "cell_type": "code",
   "execution_count": 64,
   "id": "6abb792e",
   "metadata": {},
   "outputs": [
    {
     "data": {
      "text/plain": [
       "<matplotlib.collections.PathCollection at 0x20052451d60>"
      ]
     },
     "execution_count": 64,
     "metadata": {},
     "output_type": "execute_result"
    },
    {
     "data": {
      "image/png": "[encoded data removed]",
      "text/plain": [
       "<Figure size 432x288 with 1 Axes>"
      ]
     },
     "metadata": {
      "needs_background": "light"
     },
     "output_type": "display_data"
    }
   ],
   "source": [
    "plt.scatter(y_test, ridge_pred)"
   ]
  },
  {
   "cell_type": "code",
   "execution_count": 65,
   "id": "ee2fcab0",
   "metadata": {},
   "outputs": [],
   "source": [
    "residual_ridge = y_test - ridge_pred"
   ]
  },
  {
   "cell_type": "code",
   "execution_count": 66,
   "id": "aaecb6af",
   "metadata": {},
   "outputs": [
    {
     "data": {
      "text/plain": [
       "<seaborn.axisgrid.FacetGrid at 0x200520949a0>"
      ]
     },
     "execution_count": 66,
     "metadata": {},
     "output_type": "execute_result"
    },
    {
     "data": {
      "image/png": "[encoded data removed]",
      "text/plain": [
       "<Figure size 360x360 with 1 Axes>"
      ]
     },
     "metadata": {
      "needs_background": "light"
     },
     "output_type": "display_data"
    }
   ],
   "source": [
    "sns.displot(residual_ridge, kind = 'kde')"
   ]
  },
  {
   "cell_type": "code",
   "execution_count": 67,
   "id": "c284dff9",
   "metadata": {},
   "outputs": [
    {
     "data": {
      "text/plain": [
       "<matplotlib.collections.PathCollection at 0x20053d20c10>"
      ]
     },
     "execution_count": 67,
     "metadata": {},
     "output_type": "execute_result"
    },
    {
     "data": {
      "image/png": "[encoded data removed]",
      "text/plain": [
       "<Figure size 432x288 with 1 Axes>"
      ]
     },
     "metadata": {
      "needs_background": "light"
     },
     "output_type": "display_data"
    }
   ],
   "source": [
    "plt.scatter(residual_ridge, ridge_pred)"
   ]
  },
  {
   "cell_type": "code",
   "execution_count": 68,
   "id": "b41d65f9",
   "metadata": {},
   "outputs": [],
   "source": [
    "from sklearn.metrics import mean_absolute_error, mean_squared_error"
   ]
  },
  {
   "cell_type": "code",
   "execution_count": 69,
   "id": "abfdf2c6",
   "metadata": {},
   "outputs": [],
   "source": [
    "mae_ridge = mean_absolute_error(y_test, ridge_pred)"
   ]
  },
  {
   "cell_type": "code",
   "execution_count": 70,
   "id": "39127a5f",
   "metadata": {},
   "outputs": [],
   "source": [
    "mse_ridge = mean_squared_error(y_test, ridge_pred)"
   ]
  },
  {
   "cell_type": "code",
   "execution_count": 71,
   "id": "4aec2784",
   "metadata": {},
   "outputs": [],
   "source": [
    "rmse_ridge = np.sqrt(mse_ridge)"
   ]
  },
  {
   "cell_type": "code",
   "execution_count": 72,
   "id": "19ba14b7",
   "metadata": {},
   "outputs": [
    {
     "name": "stdout",
     "output_type": "stream",
     "text": [
      "2.0450441649434494 2.5620017213366477 6.563852820131946\n"
     ]
    }
   ],
   "source": [
    "print(mae_ridge, rmse_ridge, mse_ridge)"
   ]
  },
  {
   "cell_type": "code",
   "execution_count": 73,
   "id": "5ccc0947",
   "metadata": {},
   "outputs": [],
   "source": [
    "from sklearn.metrics import r2_score"
   ]
  },
  {
   "cell_type": "code",
   "execution_count": 74,
   "id": "cc99ef7b",
   "metadata": {},
   "outputs": [],
   "source": [
    "r_squared_ridge = r2_score(y_test, ridge_pred)"
   ]
  },
  {
   "cell_type": "code",
   "execution_count": 75,
   "id": "cb4d5625",
   "metadata": {},
   "outputs": [],
   "source": [
    "adjusted_r_squared_ridge = 1 - ((1- r_squared_ridge)* (len(y_test)-1))/(len(y_test) - X_test.shape[1]-1)"
   ]
  },
  {
   "cell_type": "code",
   "execution_count": 76,
   "id": "77a88f49",
   "metadata": {},
   "outputs": [
    {
     "name": "stdout",
     "output_type": "stream",
     "text": [
      "0.5181363124818343 0.4137325135195652\n"
     ]
    }
   ],
   "source": [
    "print( r_squared_ridge, adjusted_r_squared_ridge)"
   ]
  },
  {
   "cell_type": "markdown",
   "id": "149fb416",
   "metadata": {},
   "source": [
    "# 3. Lasso Regression"
   ]
  },
  {
   "cell_type": "code",
   "execution_count": 77,
   "id": "8d5ce7b8",
   "metadata": {},
   "outputs": [],
   "source": [
    "from sklearn.linear_model import Lasso"
   ]
  },
  {
   "cell_type": "code",
   "execution_count": 78,
   "id": "aeb96438",
   "metadata": {},
   "outputs": [],
   "source": [
    "model_lasso = Lasso()"
   ]
  },
  {
   "cell_type": "code",
   "execution_count": 79,
   "id": "2e5ebf75",
   "metadata": {},
   "outputs": [
    {
     "data": {
      "text/plain": [
       "Lasso()"
      ]
     },
     "execution_count": 79,
     "metadata": {},
     "output_type": "execute_result"
    }
   ],
   "source": [
    "model_lasso.fit(X_train_scaled, y_train)"
   ]
  },
  {
   "cell_type": "code",
   "execution_count": 80,
   "id": "484a0b36",
   "metadata": {},
   "outputs": [
    {
     "data": {
      "text/plain": [
       "array([ 0.        , -0.        ,  0.        , -0.91388566, -0.        ,\n",
       "       -0.        ,  0.77518976,  0.        ,  0.        ,  0.        ,\n",
       "        0.        ,  0.        , -0.        ])"
      ]
     },
     "execution_count": 80,
     "metadata": {},
     "output_type": "execute_result"
    }
   ],
   "source": [
    "model_lasso.coef_"
   ]
  },
  {
   "cell_type": "code",
   "execution_count": 81,
   "id": "3b51a6a9",
   "metadata": {},
   "outputs": [
    {
     "data": {
      "text/plain": [
       "31.99411764705882"
      ]
     },
     "execution_count": 81,
     "metadata": {},
     "output_type": "execute_result"
    }
   ],
   "source": [
    "model_lasso.intercept_"
   ]
  },
  {
   "cell_type": "code",
   "execution_count": 82,
   "id": "a62229d9",
   "metadata": {},
   "outputs": [],
   "source": [
    "lasso_pred = model_lasso.predict(X_test_scaled)"
   ]
  },
  {
   "cell_type": "code",
   "execution_count": 83,
   "id": "3e33845e",
   "metadata": {},
   "outputs": [
    {
     "data": {
      "text/plain": [
       "array([33.29127182, 32.17746846, 33.38806446, 30.38777141, 32.24815692,\n",
       "       32.31720614, 33.37737845, 34.72833071, 34.83272416, 32.02498799,\n",
       "       28.56889276, 31.05852313, 29.65824667, 35.24598336, 32.67909211,\n",
       "       30.3571516 , 31.95121435, 34.26020328, 32.51983043, 32.041017  ,\n",
       "       32.23624149, 31.23134722, 31.88668076, 33.51423973, 31.65816883,\n",
       "       32.458181  , 33.13653353, 31.36307427, 32.69902592, 32.30590155,\n",
       "       33.02145407, 32.4215996 , 29.17552844, 33.6876824 , 32.93987083,\n",
       "       29.26964569, 30.02198065, 33.99983436, 32.41687518, 32.87266962,\n",
       "       31.30409246, 32.94130904, 30.9656353 , 32.855821  , 32.61435749,\n",
       "       31.55624197, 33.08700831, 31.07907552, 34.06354059, 32.18527806,\n",
       "       31.14503956, 32.34597794, 31.97381578, 32.71649313, 31.95059576,\n",
       "       32.17787827, 31.05523691, 30.14240311, 33.0489887 , 33.15256254,\n",
       "       30.73300979, 28.13179495, 31.00550291, 31.51493616, 31.90990853,\n",
       "       29.14100383, 32.8597258 , 32.28576671, 28.77583165, 32.15219165,\n",
       "       31.66228241, 31.65138762, 32.29377734, 31.60741418])"
      ]
     },
     "execution_count": 83,
     "metadata": {},
     "output_type": "execute_result"
    }
   ],
   "source": [
    "lasso_pred"
   ]
  },
  {
   "cell_type": "code",
   "execution_count": 84,
   "id": "0b0f23c0",
   "metadata": {},
   "outputs": [
    {
     "data": {
      "text/plain": [
       "<matplotlib.collections.PathCollection at 0x20053d95ac0>"
      ]
     },
     "execution_count": 84,
     "metadata": {},
     "output_type": "execute_result"
    },
    {
     "data": {
      "image/png": "[encoded data removed]",
      "text/plain": [
       "<Figure size 432x288 with 1 Axes>"
      ]
     },
     "metadata": {
      "needs_background": "light"
     },
     "output_type": "display_data"
    }
   ],
   "source": [
    "plt.scatter(y_test, lasso_pred)"
   ]
  },
  {
   "cell_type": "code",
   "execution_count": 85,
   "id": "d4f387e8",
   "metadata": {},
   "outputs": [],
   "source": [
    "residual_lasso = y_test - lasso_pred"
   ]
  },
  {
   "cell_type": "code",
   "execution_count": 86,
   "id": "eb0fafd6",
   "metadata": {},
   "outputs": [
    {
     "data": {
      "text/plain": [
       "<seaborn.axisgrid.FacetGrid at 0x20053dc2a30>"
      ]
     },
     "execution_count": 86,
     "metadata": {},
     "output_type": "execute_result"
    },
    {
     "data": {
      "image/png": "[encoded data removed]",
      "text/plain": [
       "<Figure size 360x360 with 1 Axes>"
      ]
     },
     "metadata": {
      "needs_background": "light"
     },
     "output_type": "display_data"
    }
   ],
   "source": [
    "sns.displot(residual_lasso, kind = 'kde')"
   ]
  },
  {
   "cell_type": "code",
   "execution_count": 87,
   "id": "460f51a7",
   "metadata": {},
   "outputs": [
    {
     "data": {
      "text/plain": [
       "<matplotlib.collections.PathCollection at 0x20053e668b0>"
      ]
     },
     "execution_count": 87,
     "metadata": {},
     "output_type": "execute_result"
    },
    {
     "data": {
      "image/png": "[encoded data removed]",
      "text/plain": [
       "<Figure size 432x288 with 1 Axes>"
      ]
     },
     "metadata": {
      "needs_background": "light"
     },
     "output_type": "display_data"
    }
   ],
   "source": [
    "plt.scatter(residual_lasso, lasso_pred)"
   ]
  },
  {
   "cell_type": "code",
   "execution_count": 88,
   "id": "71646f85",
   "metadata": {},
   "outputs": [],
   "source": [
    "from sklearn.metrics import mean_absolute_error, mean_squared_error"
   ]
  },
  {
   "cell_type": "code",
   "execution_count": 89,
   "id": "a0082abf",
   "metadata": {},
   "outputs": [],
   "source": [
    "mae_lasso = mean_absolute_error(y_test, lasso_pred)"
   ]
  },
  {
   "cell_type": "code",
   "execution_count": 90,
   "id": "297bb0e8",
   "metadata": {},
   "outputs": [],
   "source": [
    "mse_lasso = mean_squared_error(y_test, lasso_pred)"
   ]
  },
  {
   "cell_type": "code",
   "execution_count": 91,
   "id": "c197ba1f",
   "metadata": {},
   "outputs": [],
   "source": [
    "rmse_lasso = np.sqrt(mse_lasso)"
   ]
  },
  {
   "cell_type": "code",
   "execution_count": 92,
   "id": "3e8a9e83",
   "metadata": {},
   "outputs": [
    {
     "name": "stdout",
     "output_type": "stream",
     "text": [
      "2.3192459485031636 2.871424883709956 8.245080862788734\n"
     ]
    }
   ],
   "source": [
    "print(mae_lasso, rmse_lasso, mse_lasso)"
   ]
  },
  {
   "cell_type": "code",
   "execution_count": 93,
   "id": "510d6d9b",
   "metadata": {},
   "outputs": [],
   "source": [
    "from sklearn.metrics import r2_score"
   ]
  },
  {
   "cell_type": "code",
   "execution_count": 94,
   "id": "05e6cf81",
   "metadata": {},
   "outputs": [],
   "source": [
    "r_squared_lasso = r2_score(y_test, lasso_pred)"
   ]
  },
  {
   "cell_type": "code",
   "execution_count": 95,
   "id": "8d23db20",
   "metadata": {},
   "outputs": [],
   "source": [
    "adjusted_r_squared_lasso= 1 - ((1- r_squared_lasso)* (len(y_test)-1))/(len(y_test) - X_test.shape[1]-1)"
   ]
  },
  {
   "cell_type": "code",
   "execution_count": 96,
   "id": "35972b3b",
   "metadata": {},
   "outputs": [
    {
     "data": {
      "text/plain": [
       "0.3947144798488986"
      ]
     },
     "execution_count": 96,
     "metadata": {},
     "output_type": "execute_result"
    }
   ],
   "source": [
    "r_squared_lasso"
   ]
  },
  {
   "cell_type": "code",
   "execution_count": 97,
   "id": "63d1dd27",
   "metadata": {},
   "outputs": [
    {
     "data": {
      "text/plain": [
       "0.26356928381615996"
      ]
     },
     "execution_count": 97,
     "metadata": {},
     "output_type": "execute_result"
    }
   ],
   "source": [
    "adjusted_r_squared_lasso"
   ]
  },
  {
   "cell_type": "markdown",
   "id": "2ae89030",
   "metadata": {},
   "source": [
    "# 4. ElasticNet"
   ]
  },
  {
   "cell_type": "code",
   "execution_count": 98,
   "id": "e35e5e9b",
   "metadata": {},
   "outputs": [],
   "source": [
    "from sklearn.linear_model import ElasticNet"
   ]
  },
  {
   "cell_type": "code",
   "execution_count": 99,
   "id": "febf7dfb",
   "metadata": {},
   "outputs": [],
   "source": [
    "model_elastic = ElasticNet()"
   ]
  },
  {
   "cell_type": "code",
   "execution_count": 100,
   "id": "10806f6e",
   "metadata": {},
   "outputs": [
    {
     "data": {
      "text/plain": [
       "ElasticNet()"
      ]
     },
     "execution_count": 100,
     "metadata": {},
     "output_type": "execute_result"
    }
   ],
   "source": [
    "model_elastic.fit(X_train_scaled, y_train)"
   ]
  },
  {
   "cell_type": "code",
   "execution_count": 101,
   "id": "0c208992",
   "metadata": {},
   "outputs": [
    {
     "data": {
      "text/plain": [
       "array([-0.        , -0.        ,  0.        , -0.74846573, -0.19212161,\n",
       "       -0.        ,  0.57669844,  0.12143501,  0.        ,  0.25858408,\n",
       "        0.04543488,  0.14508822, -0.13838423])"
      ]
     },
     "execution_count": 101,
     "metadata": {},
     "output_type": "execute_result"
    }
   ],
   "source": [
    "model_elastic.coef_"
   ]
  },
  {
   "cell_type": "code",
   "execution_count": 102,
   "id": "e80cb75e",
   "metadata": {},
   "outputs": [
    {
     "data": {
      "text/plain": [
       "31.99411764705882"
      ]
     },
     "execution_count": 102,
     "metadata": {},
     "output_type": "execute_result"
    }
   ],
   "source": [
    "model_elastic.intercept_"
   ]
  },
  {
   "cell_type": "code",
   "execution_count": 103,
   "id": "6c697b9f",
   "metadata": {},
   "outputs": [],
   "source": [
    "elastic_pred = model_elastic.predict(X_test_scaled)"
   ]
  },
  {
   "cell_type": "code",
   "execution_count": 104,
   "id": "582e3e3f",
   "metadata": {},
   "outputs": [
    {
     "data": {
      "text/plain": [
       "array([32.62545926, 32.20415531, 33.60941517, 30.02787076, 31.95646979,\n",
       "       32.10718101, 33.76635517, 35.4177821 , 35.77994619, 31.97270978,\n",
       "       28.1625163 , 30.84893701, 29.46920176, 36.37241645, 32.70882639,\n",
       "       29.71182992, 32.63466772, 35.42856447, 32.6612447 , 31.92281563,\n",
       "       32.60667153, 31.03469115, 32.08506378, 33.40653819, 31.25415503,\n",
       "       33.0598216 , 33.2631514 , 31.1713442 , 33.54590879, 31.57835187,\n",
       "       33.46842901, 32.36091586, 28.71880209, 33.85664249, 33.2399177 ,\n",
       "       29.25586311, 29.5042719 , 33.94135279, 32.52423354, 32.2539077 ,\n",
       "       30.85316656, 33.26548564, 30.74570628, 32.77473452, 32.01579643,\n",
       "       30.77353011, 33.33259685, 31.27359218, 34.5594875 , 32.56233304,\n",
       "       30.64859488, 32.40606824, 31.36691831, 32.77881341, 31.49537892,\n",
       "       31.82547569, 30.8363247 , 30.03776648, 32.52250672, 33.87849671,\n",
       "       30.44791552, 28.41722535, 30.4662057 , 31.02986606, 32.01139692,\n",
       "       28.56051483, 33.06451906, 32.45272029, 27.76605163, 32.0160305 ,\n",
       "       31.90980949, 31.65224309, 31.75631537, 32.0682716 ])"
      ]
     },
     "execution_count": 104,
     "metadata": {},
     "output_type": "execute_result"
    }
   ],
   "source": [
    "elastic_pred"
   ]
  },
  {
   "cell_type": "code",
   "execution_count": 105,
   "id": "5a8b9185",
   "metadata": {},
   "outputs": [
    {
     "data": {
      "text/plain": [
       "<matplotlib.collections.PathCollection at 0x20053ecdd90>"
      ]
     },
     "execution_count": 105,
     "metadata": {},
     "output_type": "execute_result"
    },
    {
     "data": {
      "image/png": "[encoded data removed]",
      "text/plain": [
       "<Figure size 432x288 with 1 Axes>"
      ]
     },
     "metadata": {
      "needs_background": "light"
     },
     "output_type": "display_data"
    }
   ],
   "source": [
    "plt.scatter(y_test, elastic_pred)"
   ]
  },
  {
   "cell_type": "code",
   "execution_count": 106,
   "id": "2947a334",
   "metadata": {},
   "outputs": [],
   "source": [
    "residual_elastic = y_test - elastic_pred"
   ]
  },
  {
   "cell_type": "code",
   "execution_count": 107,
   "id": "705c387f",
   "metadata": {},
   "outputs": [
    {
     "data": {
      "text/plain": [
       "<seaborn.axisgrid.FacetGrid at 0x200523ffeb0>"
      ]
     },
     "execution_count": 107,
     "metadata": {},
     "output_type": "execute_result"
    },
    {
     "data": {
      "image/png": "[encoded data removed]",
      "text/plain": [
       "<Figure size 360x360 with 1 Axes>"
      ]
     },
     "metadata": {
      "needs_background": "light"
     },
     "output_type": "display_data"
    }
   ],
   "source": [
    "sns.displot(residual_elastic, kind = 'kde')"
   ]
  },
  {
   "cell_type": "code",
   "execution_count": 108,
   "id": "eaa946a4",
   "metadata": {},
   "outputs": [
    {
     "data": {
      "text/plain": [
       "<matplotlib.collections.PathCollection at 0x20053f9c2b0>"
      ]
     },
     "execution_count": 108,
     "metadata": {},
     "output_type": "execute_result"
    },
    {
     "data": {
      "image/png": "[encoded data removed]",
      "text/plain": [
       "<Figure size 432x288 with 1 Axes>"
      ]
     },
     "metadata": {
      "needs_background": "light"
     },
     "output_type": "display_data"
    }
   ],
   "source": [
    "plt.scatter(residual_elastic, elastic_pred)"
   ]
  },
  {
   "cell_type": "code",
   "execution_count": 109,
   "id": "a2c7bd73",
   "metadata": {},
   "outputs": [],
   "source": [
    "from sklearn.metrics import mean_squared_error, mean_absolute_error"
   ]
  },
  {
   "cell_type": "code",
   "execution_count": 110,
   "id": "2f171b54",
   "metadata": {},
   "outputs": [],
   "source": [
    "mse_elastic = mean_squared_error(y_test, elastic_pred)"
   ]
  },
  {
   "cell_type": "code",
   "execution_count": 111,
   "id": "a8adc5d1",
   "metadata": {},
   "outputs": [],
   "source": [
    "mae_elastic = mean_absolute_error(y_test, elastic_pred)"
   ]
  },
  {
   "cell_type": "code",
   "execution_count": 112,
   "id": "6957290a",
   "metadata": {},
   "outputs": [],
   "source": [
    "rmse_elastic = np.sqrt(mse_elastic)"
   ]
  },
  {
   "cell_type": "code",
   "execution_count": 113,
   "id": "91b19107",
   "metadata": {},
   "outputs": [
    {
     "name": "stdout",
     "output_type": "stream",
     "text": [
      "2.201277524780754 7.54727642287093 2.7472306825002755\n"
     ]
    }
   ],
   "source": [
    "print(mae_elastic, mse_elastic, rmse_elastic)"
   ]
  },
  {
   "cell_type": "code",
   "execution_count": 114,
   "id": "5ea97937",
   "metadata": {},
   "outputs": [],
   "source": [
    "from sklearn.metrics import r2_score"
   ]
  },
  {
   "cell_type": "code",
   "execution_count": 115,
   "id": "e603052f",
   "metadata": {},
   "outputs": [],
   "source": [
    "r_squared_elastic = r2_score(y_test, elastic_pred)"
   ]
  },
  {
   "cell_type": "code",
   "execution_count": 116,
   "id": "bf53004a",
   "metadata": {},
   "outputs": [],
   "source": [
    "adjusted_r_squared_elastic= 1 - ((1- r_squared_elastic)* (len(y_test)-1))/(len(y_test) - X_test.shape[1]-1)"
   ]
  },
  {
   "cell_type": "code",
   "execution_count": 117,
   "id": "d3cf9e08",
   "metadata": {},
   "outputs": [
    {
     "data": {
      "text/plain": [
       "0.4459414999847008"
      ]
     },
     "execution_count": 117,
     "metadata": {},
     "output_type": "execute_result"
    }
   ],
   "source": [
    "r_squared_elastic"
   ]
  },
  {
   "cell_type": "code",
   "execution_count": 118,
   "id": "37226c61",
   "metadata": {},
   "outputs": [
    {
     "data": {
      "text/plain": [
       "0.32589549164805265"
      ]
     },
     "execution_count": 118,
     "metadata": {},
     "output_type": "execute_result"
    }
   ],
   "source": [
    "adjusted_r_squared_elastic"
   ]
  },
  {
   "cell_type": "markdown",
   "id": "b7ab5258",
   "metadata": {},
   "source": [
    "# Let's check how our models performed:"
   ]
  },
  {
   "cell_type": "code",
   "execution_count": 119,
   "id": "87bcb381",
   "metadata": {},
   "outputs": [],
   "source": [
    "data = {'Mean_Squared_Errors': [mse_reg, mse_ridge, mse_lasso, mse_elastic],\n",
    "        \"RMSE\" : [rmse_reg,rmse_ridge, rmse_ridge, rmse_elastic ],\n",
    "        'MAE': [mae_reg, mae_ridge, mae_lasso, mae_elastic],\n",
    "        'R_squared': [r_squared_reg, r_squared_ridge, r_squared_lasso, r_squared_elastic],\n",
    "        'adjusted_r_squared' : [adjusted_r_squared_reg, adjusted_r_squared_ridge, adjusted_r_squared_lasso, adjusted_r_squared_elastic]\n",
    "    \n",
    "}"
   ]
  },
  {
   "cell_type": "code",
   "execution_count": 120,
   "id": "5ec6e3a2",
   "metadata": {},
   "outputs": [],
   "source": [
    "com = pd.DataFrame(data, index= ['Reg',  'Ridge', 'Lasso', 'Elastic'])"
   ]
  },
  {
   "cell_type": "code",
   "execution_count": 121,
   "id": "1be00b44",
   "metadata": {},
   "outputs": [
    {
     "data": {
      "text/html": [
       "<div>\n",
       "<style scoped>\n",
       "    .dataframe tbody tr th:only-of-type {\n",
       "        vertical-align: middle;\n",
       "    }\n",
       "\n",
       "    .dataframe tbody tr th {\n",
       "        vertical-align: top;\n",
       "    }\n",
       "\n",
       "    .dataframe thead th {\n",
       "        text-align: right;\n",
       "    }\n",
       "</style>\n",
       "<table border=\"1\" class=\"dataframe\">\n",
       "  <thead>\n",
       "    <tr style=\"text-align: right;\">\n",
       "      <th></th>\n",
       "      <th>Mean_Squared_Errors</th>\n",
       "      <th>RMSE</th>\n",
       "      <th>MAE</th>\n",
       "      <th>R_squared</th>\n",
       "      <th>adjusted_r_squared</th>\n",
       "    </tr>\n",
       "  </thead>\n",
       "  <tbody>\n",
       "    <tr>\n",
       "      <th>Reg</th>\n",
       "      <td>6.625685</td>\n",
       "      <td>2.574041</td>\n",
       "      <td>2.068888</td>\n",
       "      <td>0.513597</td>\n",
       "      <td>0.408210</td>\n",
       "    </tr>\n",
       "    <tr>\n",
       "      <th>Ridge</th>\n",
       "      <td>6.563853</td>\n",
       "      <td>2.562002</td>\n",
       "      <td>2.045044</td>\n",
       "      <td>0.518136</td>\n",
       "      <td>0.413733</td>\n",
       "    </tr>\n",
       "    <tr>\n",
       "      <th>Lasso</th>\n",
       "      <td>8.245081</td>\n",
       "      <td>2.562002</td>\n",
       "      <td>2.319246</td>\n",
       "      <td>0.394714</td>\n",
       "      <td>0.263569</td>\n",
       "    </tr>\n",
       "    <tr>\n",
       "      <th>Elastic</th>\n",
       "      <td>7.547276</td>\n",
       "      <td>2.747231</td>\n",
       "      <td>2.201278</td>\n",
       "      <td>0.445941</td>\n",
       "      <td>0.325895</td>\n",
       "    </tr>\n",
       "  </tbody>\n",
       "</table>\n",
       "</div>"
      ],
      "text/plain": [
       "         Mean_Squared_Errors      RMSE       MAE  R_squared  \\\n",
       "Reg                 6.625685  2.574041  2.068888   0.513597   \n",
       "Ridge               6.563853  2.562002  2.045044   0.518136   \n",
       "Lasso               8.245081  2.562002  2.319246   0.394714   \n",
       "Elastic             7.547276  2.747231  2.201278   0.445941   \n",
       "\n",
       "         adjusted_r_squared  \n",
       "Reg                0.408210  \n",
       "Ridge              0.413733  \n",
       "Lasso              0.263569  \n",
       "Elastic            0.325895  "
      ]
     },
     "execution_count": 121,
     "metadata": {},
     "output_type": "execute_result"
    }
   ],
   "source": [
    "com"
   ]
  },
  {
   "cell_type": "markdown",
   "id": "a56a1ff7",
   "metadata": {},
   "source": [
    "#CONCLUSION"
   ]
  },
  {
   "cell_type": "markdown",
   "id": "09d5d4a3",
   "metadata": {},
   "source": [
    "# Without hyperparameter tunning, Ridge Regression is the best algorithm here"
   ]
  },
  {
   "cell_type": "code",
   "execution_count": null,
   "id": "f27c1f7a",
   "metadata": {},
   "outputs": [],
   "source": []
  }
 ],
 "metadata": {
  "kernelspec": {
   "display_name": "Python 3 (ipykernel)",
   "language": "python",
   "name": "python3"
  },
  "language_info": {
   "codemirror_mode": {
    "name": "ipython",
    "version": 3
   },
   "file_extension": ".py",
   "mimetype": "text/x-python",
   "name": "python",
   "nbconvert_exporter": "python",
   "pygments_lexer": "ipython3",
   "version": "3.9.12"
  }
 },
 "nbformat": 4,
 "nbformat_minor": 5
}
